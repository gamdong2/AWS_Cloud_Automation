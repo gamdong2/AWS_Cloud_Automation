{
 "cells": [
  {
   "cell_type": "code",
   "execution_count": 2,
   "metadata": {},
   "outputs": [
    {
     "name": "stdout",
     "output_type": "stream",
     "text": [
      "Collecting boto3\n",
      "  Downloading boto3-1.35.0-py3-none-any.whl.metadata (6.6 kB)\n",
      "Collecting botocore<1.36.0,>=1.35.0 (from boto3)\n",
      "  Downloading botocore-1.35.0-py3-none-any.whl.metadata (5.7 kB)\n",
      "Collecting jmespath<2.0.0,>=0.7.1 (from boto3)\n",
      "  Downloading jmespath-1.0.1-py3-none-any.whl.metadata (7.6 kB)\n",
      "Collecting s3transfer<0.11.0,>=0.10.0 (from boto3)\n",
      "  Downloading s3transfer-0.10.2-py3-none-any.whl.metadata (1.7 kB)\n",
      "Requirement already satisfied: python-dateutil<3.0.0,>=2.1 in c:\\programdata\\anaconda3\\envs\\aws-venv\\lib\\site-packages (from botocore<1.36.0,>=1.35.0->boto3) (2.9.0)\n",
      "Collecting urllib3!=2.2.0,<3,>=1.25.4 (from botocore<1.36.0,>=1.35.0->boto3)\n",
      "  Downloading urllib3-2.2.2-py3-none-any.whl.metadata (6.4 kB)\n",
      "Requirement already satisfied: six>=1.5 in c:\\programdata\\anaconda3\\envs\\aws-venv\\lib\\site-packages (from python-dateutil<3.0.0,>=2.1->botocore<1.36.0,>=1.35.0->boto3) (1.16.0)\n",
      "Downloading boto3-1.35.0-py3-none-any.whl (139 kB)\n",
      "Downloading botocore-1.35.0-py3-none-any.whl (12.5 MB)\n",
      "   ---------------------------------------- 0.0/12.5 MB ? eta -:--:--\n",
      "    --------------------------------------- 0.3/12.5 MB ? eta -:--:--\n",
      "    --------------------------------------- 0.3/12.5 MB ? eta -:--:--\n",
      "   -- ------------------------------------- 0.8/12.5 MB 1.4 MB/s eta 0:00:09\n",
      "   --- ------------------------------------ 1.0/12.5 MB 1.4 MB/s eta 0:00:09\n",
      "   ---- ----------------------------------- 1.3/12.5 MB 1.5 MB/s eta 0:00:08\n",
      "   ----- ---------------------------------- 1.8/12.5 MB 1.6 MB/s eta 0:00:07\n",
      "   ------ --------------------------------- 2.1/12.5 MB 1.6 MB/s eta 0:00:07\n",
      "   ------- -------------------------------- 2.4/12.5 MB 1.5 MB/s eta 0:00:07\n",
      "   -------- ------------------------------- 2.6/12.5 MB 1.5 MB/s eta 0:00:07\n",
      "   --------- ------------------------------ 2.9/12.5 MB 1.4 MB/s eta 0:00:07\n",
      "   ---------- ----------------------------- 3.1/12.5 MB 1.4 MB/s eta 0:00:07\n",
      "   ---------- ----------------------------- 3.4/12.5 MB 1.4 MB/s eta 0:00:07\n",
      "   ----------- ---------------------------- 3.7/12.5 MB 1.4 MB/s eta 0:00:07\n",
      "   ------------- -------------------------- 4.2/12.5 MB 1.4 MB/s eta 0:00:06\n",
      "   --------------- ------------------------ 4.7/12.5 MB 1.5 MB/s eta 0:00:06\n",
      "   --------------- ------------------------ 5.0/12.5 MB 1.6 MB/s eta 0:00:05\n",
      "   ---------------- ----------------------- 5.2/12.5 MB 1.5 MB/s eta 0:00:05\n",
      "   ----------------- ---------------------- 5.5/12.5 MB 1.5 MB/s eta 0:00:05\n",
      "   ------------------ --------------------- 5.8/12.5 MB 1.5 MB/s eta 0:00:05\n",
      "   -------------------- ------------------- 6.3/12.5 MB 1.5 MB/s eta 0:00:05\n",
      "   --------------------- ------------------ 6.8/12.5 MB 1.6 MB/s eta 0:00:04\n",
      "   ----------------------- ---------------- 7.3/12.5 MB 1.6 MB/s eta 0:00:04\n",
      "   ------------------------- -------------- 7.9/12.5 MB 1.6 MB/s eta 0:00:03\n",
      "   -------------------------- ------------- 8.4/12.5 MB 1.7 MB/s eta 0:00:03\n",
      "   ----------------------------- ---------- 9.2/12.5 MB 1.8 MB/s eta 0:00:02\n",
      "   ------------------------------- -------- 9.7/12.5 MB 1.8 MB/s eta 0:00:02\n",
      "   -------------------------------- ------- 10.2/12.5 MB 1.8 MB/s eta 0:00:02\n",
      "   --------------------------------- ------ 10.5/12.5 MB 1.8 MB/s eta 0:00:02\n",
      "   ------------------------------------ --- 11.3/12.5 MB 1.9 MB/s eta 0:00:01\n",
      "   ------------------------------------- -- 11.5/12.5 MB 1.9 MB/s eta 0:00:01\n",
      "   ---------------------------------------  12.3/12.5 MB 1.9 MB/s eta 0:00:01\n",
      "   ---------------------------------------- 12.5/12.5 MB 1.9 MB/s eta 0:00:00\n",
      "Downloading jmespath-1.0.1-py3-none-any.whl (20 kB)\n",
      "Downloading s3transfer-0.10.2-py3-none-any.whl (82 kB)\n",
      "Downloading urllib3-2.2.2-py3-none-any.whl (121 kB)\n",
      "Installing collected packages: urllib3, jmespath, botocore, s3transfer, boto3\n",
      "Successfully installed boto3-1.35.0 botocore-1.35.0 jmespath-1.0.1 s3transfer-0.10.2 urllib3-2.2.2\n",
      "Note: you may need to restart the kernel to use updated packages.\n"
     ]
    }
   ],
   "source": [
    "# # boto3 설치\n",
    "# pip install boto3"
   ]
  },
  {
   "cell_type": "code",
   "execution_count": 1,
   "metadata": {},
   "outputs": [],
   "source": [
    "import boto3"
   ]
  },
  {
   "cell_type": "markdown",
   "metadata": {},
   "source": [
    "## Case 1 : No Credential Error\n",
    "\n",
    "- 인증 오류를 해결하기 위해 AWS Access Key, Secret Access Key 입력 필요함."
   ]
  },
  {
   "cell_type": "code",
   "execution_count": 2,
   "metadata": {},
   "outputs": [
    {
     "ename": "NoCredentialsError",
     "evalue": "Unable to locate credentials",
     "output_type": "error",
     "traceback": [
      "\u001b[1;31m---------------------------------------------------------------------------\u001b[0m",
      "\u001b[1;31mNoCredentialsError\u001b[0m                        Traceback (most recent call last)",
      "Cell \u001b[1;32mIn[2], line 5\u001b[0m\n\u001b[0;32m      2\u001b[0m s3 \u001b[38;5;241m=\u001b[39m boto3\u001b[38;5;241m.\u001b[39mclient(\u001b[38;5;124m'\u001b[39m\u001b[38;5;124ms3\u001b[39m\u001b[38;5;124m'\u001b[39m)\n\u001b[0;32m      4\u001b[0m \u001b[38;5;66;03m# 모든 버킷 목록 가져오기\u001b[39;00m\n\u001b[1;32m----> 5\u001b[0m response \u001b[38;5;241m=\u001b[39m \u001b[43ms3\u001b[49m\u001b[38;5;241;43m.\u001b[39;49m\u001b[43mlist_buckets\u001b[49m\u001b[43m(\u001b[49m\u001b[43m)\u001b[49m\n\u001b[0;32m      7\u001b[0m \u001b[38;5;66;03m# 버킷 이름 출력\u001b[39;00m\n\u001b[0;32m      8\u001b[0m \u001b[38;5;28;01mfor\u001b[39;00m bucket \u001b[38;5;129;01min\u001b[39;00m response[\u001b[38;5;124m'\u001b[39m\u001b[38;5;124mBuckets\u001b[39m\u001b[38;5;124m'\u001b[39m]:\n",
      "File \u001b[1;32mc:\\Users\\user\\anaconda3\\envs\\4th_math\\lib\\site-packages\\botocore\\client.py:569\u001b[0m, in \u001b[0;36mClientCreator._create_api_method.<locals>._api_call\u001b[1;34m(self, *args, **kwargs)\u001b[0m\n\u001b[0;32m    565\u001b[0m     \u001b[38;5;28;01mraise\u001b[39;00m \u001b[38;5;167;01mTypeError\u001b[39;00m(\n\u001b[0;32m    566\u001b[0m         \u001b[38;5;124mf\u001b[39m\u001b[38;5;124m\"\u001b[39m\u001b[38;5;132;01m{\u001b[39;00mpy_operation_name\u001b[38;5;132;01m}\u001b[39;00m\u001b[38;5;124m() only accepts keyword arguments.\u001b[39m\u001b[38;5;124m\"\u001b[39m\n\u001b[0;32m    567\u001b[0m     )\n\u001b[0;32m    568\u001b[0m \u001b[38;5;66;03m# The \"self\" in this scope is referring to the BaseClient.\u001b[39;00m\n\u001b[1;32m--> 569\u001b[0m \u001b[38;5;28;01mreturn\u001b[39;00m \u001b[38;5;28;43mself\u001b[39;49m\u001b[38;5;241;43m.\u001b[39;49m\u001b[43m_make_api_call\u001b[49m\u001b[43m(\u001b[49m\u001b[43moperation_name\u001b[49m\u001b[43m,\u001b[49m\u001b[43m \u001b[49m\u001b[43mkwargs\u001b[49m\u001b[43m)\u001b[49m\n",
      "File \u001b[1;32mc:\\Users\\user\\anaconda3\\envs\\4th_math\\lib\\site-packages\\botocore\\client.py:1005\u001b[0m, in \u001b[0;36mBaseClient._make_api_call\u001b[1;34m(self, operation_name, api_params)\u001b[0m\n\u001b[0;32m   1001\u001b[0m     maybe_compress_request(\n\u001b[0;32m   1002\u001b[0m         \u001b[38;5;28mself\u001b[39m\u001b[38;5;241m.\u001b[39mmeta\u001b[38;5;241m.\u001b[39mconfig, request_dict, operation_model\n\u001b[0;32m   1003\u001b[0m     )\n\u001b[0;32m   1004\u001b[0m     apply_request_checksum(request_dict)\n\u001b[1;32m-> 1005\u001b[0m     http, parsed_response \u001b[38;5;241m=\u001b[39m \u001b[38;5;28;43mself\u001b[39;49m\u001b[38;5;241;43m.\u001b[39;49m\u001b[43m_make_request\u001b[49m\u001b[43m(\u001b[49m\n\u001b[0;32m   1006\u001b[0m \u001b[43m        \u001b[49m\u001b[43moperation_model\u001b[49m\u001b[43m,\u001b[49m\u001b[43m \u001b[49m\u001b[43mrequest_dict\u001b[49m\u001b[43m,\u001b[49m\u001b[43m \u001b[49m\u001b[43mrequest_context\u001b[49m\n\u001b[0;32m   1007\u001b[0m \u001b[43m    \u001b[49m\u001b[43m)\u001b[49m\n\u001b[0;32m   1009\u001b[0m \u001b[38;5;28mself\u001b[39m\u001b[38;5;241m.\u001b[39mmeta\u001b[38;5;241m.\u001b[39mevents\u001b[38;5;241m.\u001b[39memit(\n\u001b[0;32m   1010\u001b[0m     \u001b[38;5;124mf\u001b[39m\u001b[38;5;124m'\u001b[39m\u001b[38;5;124mafter-call.\u001b[39m\u001b[38;5;132;01m{\u001b[39;00mservice_id\u001b[38;5;132;01m}\u001b[39;00m\u001b[38;5;124m.\u001b[39m\u001b[38;5;132;01m{\u001b[39;00moperation_name\u001b[38;5;132;01m}\u001b[39;00m\u001b[38;5;124m'\u001b[39m,\n\u001b[0;32m   1011\u001b[0m     http_response\u001b[38;5;241m=\u001b[39mhttp,\n\u001b[1;32m   (...)\u001b[0m\n\u001b[0;32m   1014\u001b[0m     context\u001b[38;5;241m=\u001b[39mrequest_context,\n\u001b[0;32m   1015\u001b[0m )\n\u001b[0;32m   1017\u001b[0m \u001b[38;5;28;01mif\u001b[39;00m http\u001b[38;5;241m.\u001b[39mstatus_code \u001b[38;5;241m>\u001b[39m\u001b[38;5;241m=\u001b[39m \u001b[38;5;241m300\u001b[39m:\n",
      "File \u001b[1;32mc:\\Users\\user\\anaconda3\\envs\\4th_math\\lib\\site-packages\\botocore\\client.py:1029\u001b[0m, in \u001b[0;36mBaseClient._make_request\u001b[1;34m(self, operation_model, request_dict, request_context)\u001b[0m\n\u001b[0;32m   1027\u001b[0m \u001b[38;5;28;01mdef\u001b[39;00m \u001b[38;5;21m_make_request\u001b[39m(\u001b[38;5;28mself\u001b[39m, operation_model, request_dict, request_context):\n\u001b[0;32m   1028\u001b[0m     \u001b[38;5;28;01mtry\u001b[39;00m:\n\u001b[1;32m-> 1029\u001b[0m         \u001b[38;5;28;01mreturn\u001b[39;00m \u001b[38;5;28;43mself\u001b[39;49m\u001b[38;5;241;43m.\u001b[39;49m\u001b[43m_endpoint\u001b[49m\u001b[38;5;241;43m.\u001b[39;49m\u001b[43mmake_request\u001b[49m\u001b[43m(\u001b[49m\u001b[43moperation_model\u001b[49m\u001b[43m,\u001b[49m\u001b[43m \u001b[49m\u001b[43mrequest_dict\u001b[49m\u001b[43m)\u001b[49m\n\u001b[0;32m   1030\u001b[0m     \u001b[38;5;28;01mexcept\u001b[39;00m \u001b[38;5;167;01mException\u001b[39;00m \u001b[38;5;28;01mas\u001b[39;00m e:\n\u001b[0;32m   1031\u001b[0m         \u001b[38;5;28mself\u001b[39m\u001b[38;5;241m.\u001b[39mmeta\u001b[38;5;241m.\u001b[39mevents\u001b[38;5;241m.\u001b[39memit(\n\u001b[0;32m   1032\u001b[0m             \u001b[38;5;124mf\u001b[39m\u001b[38;5;124m'\u001b[39m\u001b[38;5;124mafter-call-error.\u001b[39m\u001b[38;5;132;01m{\u001b[39;00m\u001b[38;5;28mself\u001b[39m\u001b[38;5;241m.\u001b[39m_service_model\u001b[38;5;241m.\u001b[39mservice_id\u001b[38;5;241m.\u001b[39mhyphenize()\u001b[38;5;132;01m}\u001b[39;00m\u001b[38;5;124m.\u001b[39m\u001b[38;5;132;01m{\u001b[39;00moperation_model\u001b[38;5;241m.\u001b[39mname\u001b[38;5;132;01m}\u001b[39;00m\u001b[38;5;124m'\u001b[39m,\n\u001b[0;32m   1033\u001b[0m             exception\u001b[38;5;241m=\u001b[39me,\n\u001b[0;32m   1034\u001b[0m             context\u001b[38;5;241m=\u001b[39mrequest_context,\n\u001b[0;32m   1035\u001b[0m         )\n",
      "File \u001b[1;32mc:\\Users\\user\\anaconda3\\envs\\4th_math\\lib\\site-packages\\botocore\\endpoint.py:119\u001b[0m, in \u001b[0;36mEndpoint.make_request\u001b[1;34m(self, operation_model, request_dict)\u001b[0m\n\u001b[0;32m    113\u001b[0m \u001b[38;5;28;01mdef\u001b[39;00m \u001b[38;5;21mmake_request\u001b[39m(\u001b[38;5;28mself\u001b[39m, operation_model, request_dict):\n\u001b[0;32m    114\u001b[0m     logger\u001b[38;5;241m.\u001b[39mdebug(\n\u001b[0;32m    115\u001b[0m         \u001b[38;5;124m\"\u001b[39m\u001b[38;5;124mMaking request for \u001b[39m\u001b[38;5;132;01m%s\u001b[39;00m\u001b[38;5;124m with params: \u001b[39m\u001b[38;5;132;01m%s\u001b[39;00m\u001b[38;5;124m\"\u001b[39m,\n\u001b[0;32m    116\u001b[0m         operation_model,\n\u001b[0;32m    117\u001b[0m         request_dict,\n\u001b[0;32m    118\u001b[0m     )\n\u001b[1;32m--> 119\u001b[0m     \u001b[38;5;28;01mreturn\u001b[39;00m \u001b[38;5;28;43mself\u001b[39;49m\u001b[38;5;241;43m.\u001b[39;49m\u001b[43m_send_request\u001b[49m\u001b[43m(\u001b[49m\u001b[43mrequest_dict\u001b[49m\u001b[43m,\u001b[49m\u001b[43m \u001b[49m\u001b[43moperation_model\u001b[49m\u001b[43m)\u001b[49m\n",
      "File \u001b[1;32mc:\\Users\\user\\anaconda3\\envs\\4th_math\\lib\\site-packages\\botocore\\endpoint.py:196\u001b[0m, in \u001b[0;36mEndpoint._send_request\u001b[1;34m(self, request_dict, operation_model)\u001b[0m\n\u001b[0;32m    194\u001b[0m context \u001b[38;5;241m=\u001b[39m request_dict[\u001b[38;5;124m'\u001b[39m\u001b[38;5;124mcontext\u001b[39m\u001b[38;5;124m'\u001b[39m]\n\u001b[0;32m    195\u001b[0m \u001b[38;5;28mself\u001b[39m\u001b[38;5;241m.\u001b[39m_update_retries_context(context, attempts)\n\u001b[1;32m--> 196\u001b[0m request \u001b[38;5;241m=\u001b[39m \u001b[38;5;28;43mself\u001b[39;49m\u001b[38;5;241;43m.\u001b[39;49m\u001b[43mcreate_request\u001b[49m\u001b[43m(\u001b[49m\u001b[43mrequest_dict\u001b[49m\u001b[43m,\u001b[49m\u001b[43m \u001b[49m\u001b[43moperation_model\u001b[49m\u001b[43m)\u001b[49m\n\u001b[0;32m    197\u001b[0m success_response, exception \u001b[38;5;241m=\u001b[39m \u001b[38;5;28mself\u001b[39m\u001b[38;5;241m.\u001b[39m_get_response(\n\u001b[0;32m    198\u001b[0m     request, operation_model, context\n\u001b[0;32m    199\u001b[0m )\n\u001b[0;32m    200\u001b[0m \u001b[38;5;28;01mwhile\u001b[39;00m \u001b[38;5;28mself\u001b[39m\u001b[38;5;241m.\u001b[39m_needs_retry(\n\u001b[0;32m    201\u001b[0m     attempts,\n\u001b[0;32m    202\u001b[0m     operation_model,\n\u001b[1;32m   (...)\u001b[0m\n\u001b[0;32m    205\u001b[0m     exception,\n\u001b[0;32m    206\u001b[0m ):\n",
      "File \u001b[1;32mc:\\Users\\user\\anaconda3\\envs\\4th_math\\lib\\site-packages\\botocore\\endpoint.py:132\u001b[0m, in \u001b[0;36mEndpoint.create_request\u001b[1;34m(self, params, operation_model)\u001b[0m\n\u001b[0;32m    130\u001b[0m     service_id \u001b[38;5;241m=\u001b[39m operation_model\u001b[38;5;241m.\u001b[39mservice_model\u001b[38;5;241m.\u001b[39mservice_id\u001b[38;5;241m.\u001b[39mhyphenize()\n\u001b[0;32m    131\u001b[0m     event_name \u001b[38;5;241m=\u001b[39m \u001b[38;5;124mf\u001b[39m\u001b[38;5;124m'\u001b[39m\u001b[38;5;124mrequest-created.\u001b[39m\u001b[38;5;132;01m{\u001b[39;00mservice_id\u001b[38;5;132;01m}\u001b[39;00m\u001b[38;5;124m.\u001b[39m\u001b[38;5;132;01m{\u001b[39;00moperation_model\u001b[38;5;241m.\u001b[39mname\u001b[38;5;132;01m}\u001b[39;00m\u001b[38;5;124m'\u001b[39m\n\u001b[1;32m--> 132\u001b[0m     \u001b[38;5;28;43mself\u001b[39;49m\u001b[38;5;241;43m.\u001b[39;49m\u001b[43m_event_emitter\u001b[49m\u001b[38;5;241;43m.\u001b[39;49m\u001b[43memit\u001b[49m\u001b[43m(\u001b[49m\n\u001b[0;32m    133\u001b[0m \u001b[43m        \u001b[49m\u001b[43mevent_name\u001b[49m\u001b[43m,\u001b[49m\n\u001b[0;32m    134\u001b[0m \u001b[43m        \u001b[49m\u001b[43mrequest\u001b[49m\u001b[38;5;241;43m=\u001b[39;49m\u001b[43mrequest\u001b[49m\u001b[43m,\u001b[49m\n\u001b[0;32m    135\u001b[0m \u001b[43m        \u001b[49m\u001b[43moperation_name\u001b[49m\u001b[38;5;241;43m=\u001b[39;49m\u001b[43moperation_model\u001b[49m\u001b[38;5;241;43m.\u001b[39;49m\u001b[43mname\u001b[49m\u001b[43m,\u001b[49m\n\u001b[0;32m    136\u001b[0m \u001b[43m    \u001b[49m\u001b[43m)\u001b[49m\n\u001b[0;32m    137\u001b[0m prepared_request \u001b[38;5;241m=\u001b[39m \u001b[38;5;28mself\u001b[39m\u001b[38;5;241m.\u001b[39mprepare_request(request)\n\u001b[0;32m    138\u001b[0m \u001b[38;5;28;01mreturn\u001b[39;00m prepared_request\n",
      "File \u001b[1;32mc:\\Users\\user\\anaconda3\\envs\\4th_math\\lib\\site-packages\\botocore\\hooks.py:412\u001b[0m, in \u001b[0;36mEventAliaser.emit\u001b[1;34m(self, event_name, **kwargs)\u001b[0m\n\u001b[0;32m    410\u001b[0m \u001b[38;5;28;01mdef\u001b[39;00m \u001b[38;5;21memit\u001b[39m(\u001b[38;5;28mself\u001b[39m, event_name, \u001b[38;5;241m*\u001b[39m\u001b[38;5;241m*\u001b[39mkwargs):\n\u001b[0;32m    411\u001b[0m     aliased_event_name \u001b[38;5;241m=\u001b[39m \u001b[38;5;28mself\u001b[39m\u001b[38;5;241m.\u001b[39m_alias_event_name(event_name)\n\u001b[1;32m--> 412\u001b[0m     \u001b[38;5;28;01mreturn\u001b[39;00m \u001b[38;5;28mself\u001b[39m\u001b[38;5;241m.\u001b[39m_emitter\u001b[38;5;241m.\u001b[39memit(aliased_event_name, \u001b[38;5;241m*\u001b[39m\u001b[38;5;241m*\u001b[39mkwargs)\n",
      "File \u001b[1;32mc:\\Users\\user\\anaconda3\\envs\\4th_math\\lib\\site-packages\\botocore\\hooks.py:256\u001b[0m, in \u001b[0;36mHierarchicalEmitter.emit\u001b[1;34m(self, event_name, **kwargs)\u001b[0m\n\u001b[0;32m    245\u001b[0m \u001b[38;5;28;01mdef\u001b[39;00m \u001b[38;5;21memit\u001b[39m(\u001b[38;5;28mself\u001b[39m, event_name, \u001b[38;5;241m*\u001b[39m\u001b[38;5;241m*\u001b[39mkwargs):\n\u001b[0;32m    246\u001b[0m \u001b[38;5;250m    \u001b[39m\u001b[38;5;124;03m\"\"\"\u001b[39;00m\n\u001b[0;32m    247\u001b[0m \u001b[38;5;124;03m    Emit an event by name with arguments passed as keyword args.\u001b[39;00m\n\u001b[0;32m    248\u001b[0m \n\u001b[1;32m   (...)\u001b[0m\n\u001b[0;32m    254\u001b[0m \u001b[38;5;124;03m             handlers.\u001b[39;00m\n\u001b[0;32m    255\u001b[0m \u001b[38;5;124;03m    \"\"\"\u001b[39;00m\n\u001b[1;32m--> 256\u001b[0m     \u001b[38;5;28;01mreturn\u001b[39;00m \u001b[38;5;28;43mself\u001b[39;49m\u001b[38;5;241;43m.\u001b[39;49m\u001b[43m_emit\u001b[49m\u001b[43m(\u001b[49m\u001b[43mevent_name\u001b[49m\u001b[43m,\u001b[49m\u001b[43m \u001b[49m\u001b[43mkwargs\u001b[49m\u001b[43m)\u001b[49m\n",
      "File \u001b[1;32mc:\\Users\\user\\anaconda3\\envs\\4th_math\\lib\\site-packages\\botocore\\hooks.py:239\u001b[0m, in \u001b[0;36mHierarchicalEmitter._emit\u001b[1;34m(self, event_name, kwargs, stop_on_response)\u001b[0m\n\u001b[0;32m    237\u001b[0m \u001b[38;5;28;01mfor\u001b[39;00m handler \u001b[38;5;129;01min\u001b[39;00m handlers_to_call:\n\u001b[0;32m    238\u001b[0m     logger\u001b[38;5;241m.\u001b[39mdebug(\u001b[38;5;124m'\u001b[39m\u001b[38;5;124mEvent \u001b[39m\u001b[38;5;132;01m%s\u001b[39;00m\u001b[38;5;124m: calling handler \u001b[39m\u001b[38;5;132;01m%s\u001b[39;00m\u001b[38;5;124m'\u001b[39m, event_name, handler)\n\u001b[1;32m--> 239\u001b[0m     response \u001b[38;5;241m=\u001b[39m handler(\u001b[38;5;241m*\u001b[39m\u001b[38;5;241m*\u001b[39mkwargs)\n\u001b[0;32m    240\u001b[0m     responses\u001b[38;5;241m.\u001b[39mappend((handler, response))\n\u001b[0;32m    241\u001b[0m     \u001b[38;5;28;01mif\u001b[39;00m stop_on_response \u001b[38;5;129;01mand\u001b[39;00m response \u001b[38;5;129;01mis\u001b[39;00m \u001b[38;5;129;01mnot\u001b[39;00m \u001b[38;5;28;01mNone\u001b[39;00m:\n",
      "File \u001b[1;32mc:\\Users\\user\\anaconda3\\envs\\4th_math\\lib\\site-packages\\botocore\\signers.py:105\u001b[0m, in \u001b[0;36mRequestSigner.handler\u001b[1;34m(self, operation_name, request, **kwargs)\u001b[0m\n\u001b[0;32m    100\u001b[0m \u001b[38;5;28;01mdef\u001b[39;00m \u001b[38;5;21mhandler\u001b[39m(\u001b[38;5;28mself\u001b[39m, operation_name\u001b[38;5;241m=\u001b[39m\u001b[38;5;28;01mNone\u001b[39;00m, request\u001b[38;5;241m=\u001b[39m\u001b[38;5;28;01mNone\u001b[39;00m, \u001b[38;5;241m*\u001b[39m\u001b[38;5;241m*\u001b[39mkwargs):\n\u001b[0;32m    101\u001b[0m     \u001b[38;5;66;03m# This is typically hooked up to the \"request-created\" event\u001b[39;00m\n\u001b[0;32m    102\u001b[0m     \u001b[38;5;66;03m# from a client's event emitter.  When a new request is created\u001b[39;00m\n\u001b[0;32m    103\u001b[0m     \u001b[38;5;66;03m# this method is invoked to sign the request.\u001b[39;00m\n\u001b[0;32m    104\u001b[0m     \u001b[38;5;66;03m# Don't call this method directly.\u001b[39;00m\n\u001b[1;32m--> 105\u001b[0m     \u001b[38;5;28;01mreturn\u001b[39;00m \u001b[38;5;28;43mself\u001b[39;49m\u001b[38;5;241;43m.\u001b[39;49m\u001b[43msign\u001b[49m\u001b[43m(\u001b[49m\u001b[43moperation_name\u001b[49m\u001b[43m,\u001b[49m\u001b[43m \u001b[49m\u001b[43mrequest\u001b[49m\u001b[43m)\u001b[49m\n",
      "File \u001b[1;32mc:\\Users\\user\\anaconda3\\envs\\4th_math\\lib\\site-packages\\botocore\\signers.py:197\u001b[0m, in \u001b[0;36mRequestSigner.sign\u001b[1;34m(self, operation_name, request, region_name, signing_type, expires_in, signing_name)\u001b[0m\n\u001b[0;32m    194\u001b[0m     \u001b[38;5;28;01melse\u001b[39;00m:\n\u001b[0;32m    195\u001b[0m         \u001b[38;5;28;01mraise\u001b[39;00m e\n\u001b[1;32m--> 197\u001b[0m \u001b[43mauth\u001b[49m\u001b[38;5;241;43m.\u001b[39;49m\u001b[43madd_auth\u001b[49m\u001b[43m(\u001b[49m\u001b[43mrequest\u001b[49m\u001b[43m)\u001b[49m\n",
      "File \u001b[1;32mc:\\Users\\user\\anaconda3\\envs\\4th_math\\lib\\site-packages\\botocore\\auth.py:423\u001b[0m, in \u001b[0;36mSigV4Auth.add_auth\u001b[1;34m(self, request)\u001b[0m\n\u001b[0;32m    421\u001b[0m \u001b[38;5;28;01mdef\u001b[39;00m \u001b[38;5;21madd_auth\u001b[39m(\u001b[38;5;28mself\u001b[39m, request):\n\u001b[0;32m    422\u001b[0m     \u001b[38;5;28;01mif\u001b[39;00m \u001b[38;5;28mself\u001b[39m\u001b[38;5;241m.\u001b[39mcredentials \u001b[38;5;129;01mis\u001b[39;00m \u001b[38;5;28;01mNone\u001b[39;00m:\n\u001b[1;32m--> 423\u001b[0m         \u001b[38;5;28;01mraise\u001b[39;00m NoCredentialsError()\n\u001b[0;32m    424\u001b[0m     datetime_now \u001b[38;5;241m=\u001b[39m datetime\u001b[38;5;241m.\u001b[39mdatetime\u001b[38;5;241m.\u001b[39mutcnow()\n\u001b[0;32m    425\u001b[0m     request\u001b[38;5;241m.\u001b[39mcontext[\u001b[38;5;124m'\u001b[39m\u001b[38;5;124mtimestamp\u001b[39m\u001b[38;5;124m'\u001b[39m] \u001b[38;5;241m=\u001b[39m datetime_now\u001b[38;5;241m.\u001b[39mstrftime(SIGV4_TIMESTAMP)\n",
      "\u001b[1;31mNoCredentialsError\u001b[0m: Unable to locate credentials"
     ]
    }
   ],
   "source": [
    "# S3 클라이언트 생성\n",
    "s3 = boto3.client('s3')\n",
    "\n",
    "# 모든 버킷 목록 가져오기\n",
    "response = s3.list_buckets()\n",
    "\n",
    "# 버킷 이름 출력\n",
    "for bucket in response['Buckets']:\n",
    "    print(bucket['Name'])"
   ]
  },
  {
   "cell_type": "markdown",
   "metadata": {},
   "source": [
    "## Case2 : dotenv\n",
    "\n",
    "- 환경 변수 입력 및 보안을 위해 .env 파일에 기입하여 사용"
   ]
  },
  {
   "cell_type": "code",
   "execution_count": 3,
   "metadata": {},
   "outputs": [
    {
     "name": "stdout",
     "output_type": "stream",
     "text": [
      "Requirement already satisfied: python-dotenv in c:\\users\\user\\anaconda3\\envs\\4th_math\\lib\\site-packages (1.0.1)Note: you may need to restart the kernel to use updated packages.\n",
      "\n"
     ]
    }
   ],
   "source": [
    "pip install python-dotenv"
   ]
  },
  {
   "cell_type": "code",
   "execution_count": 4,
   "metadata": {},
   "outputs": [],
   "source": [
    "from dotenv import load_dotenv\n",
    "import os \n",
    "\n",
    "# 같은 폴더 내 .env 파일 정도 가져오기\n",
    "load_dotenv('.env')\n",
    "\n",
    "# 각 변수에 .env 변수 load\n",
    "ACCESS_KEY = os.getenv('ACCESS_KEY')\n",
    "SECRET_KEY = os.getenv('SECRET_KEY')\n",
    "REGION = os.getenv('region')\n",
    "\n",
    "# # AWS S3 관련 설정\n",
    "\n",
    "# S3_BUCKET = os.getenv('S3_BUCKET')\n",
    "\n",
    "# AWS S3 클라이언트 생성\n",
    "s3 = boto3.client('s3', aws_access_key_id=ACCESS_KEY,\n",
    "                  aws_secret_access_key=SECRET_KEY)"
   ]
  },
  {
   "cell_type": "code",
   "execution_count": 5,
   "metadata": {},
   "outputs": [
    {
     "name": "stdout",
     "output_type": "stream",
     "text": [
      "ACCESS_KEY :  AKIAU***************\n",
      "S3_REGION :  ap-northeast-2\n"
     ]
    }
   ],
   "source": [
    "# 불러온 정보 확인\n",
    "print('ACCESS_KEY : ', ACCESS_KEY[:-15]+('*'*15))\n",
    "print('S3_REGION : ', REGION)"
   ]
  },
  {
   "cell_type": "code",
   "execution_count": 8,
   "metadata": {},
   "outputs": [
    {
     "data": {
      "text/plain": [
       "{'ResponseMetadata': {'RequestId': 'Z4WH2JVMSGVF1KVK',\n",
       "  'HostId': 'FxleiGuHLdfgfoJg2AhUhYvhcs6/UkwpufOh+T7uqjmac3pvox+wWQdQ0qFr6PrMHKJqpp8haZA=',\n",
       "  'HTTPStatusCode': 200,\n",
       "  'HTTPHeaders': {'x-amz-id-2': 'FxleiGuHLdfgfoJg2AhUhYvhcs6/UkwpufOh+T7uqjmac3pvox+wWQdQ0qFr6PrMHKJqpp8haZA=',\n",
       "   'x-amz-request-id': 'Z4WH2JVMSGVF1KVK',\n",
       "   'date': 'Wed, 23 Oct 2024 05:10:25 GMT',\n",
       "   'content-type': 'application/xml',\n",
       "   'transfer-encoding': 'chunked',\n",
       "   'server': 'AmazonS3'},\n",
       "  'RetryAttempts': 0},\n",
       " 'Buckets': [{'Name': 'big9-example',\n",
       "   'CreationDate': datetime.datetime(2024, 10, 22, 23, 42, 25, tzinfo=tzutc())},\n",
       "  {'Name': 'bigdata9-ara',\n",
       "   'CreationDate': datetime.datetime(2024, 10, 23, 1, 35, 9, tzinfo=tzutc())},\n",
       "  {'Name': 'bigdata9-dongin',\n",
       "   'CreationDate': datetime.datetime(2024, 10, 23, 1, 35, 17, tzinfo=tzutc())},\n",
       "  {'Name': 'bigdata9-ktk',\n",
       "   'CreationDate': datetime.datetime(2024, 10, 23, 1, 35, 22, tzinfo=tzutc())},\n",
       "  {'Name': 'bigdata9-manhye',\n",
       "   'CreationDate': datetime.datetime(2024, 10, 23, 1, 35, 12, tzinfo=tzutc())},\n",
       "  {'Name': 'bigdata9-seungyeon',\n",
       "   'CreationDate': datetime.datetime(2024, 10, 23, 1, 35, 9, tzinfo=tzutc())},\n",
       "  {'Name': 'bigdata9-sooz',\n",
       "   'CreationDate': datetime.datetime(2024, 10, 23, 1, 35, 23, tzinfo=tzutc())},\n",
       "  {'Name': 'bigdata9-yewon',\n",
       "   'CreationDate': datetime.datetime(2024, 10, 23, 1, 35, 10, tzinfo=tzutc())},\n",
       "  {'Name': 'bigdata9-yura',\n",
       "   'CreationDate': datetime.datetime(2024, 10, 23, 1, 35, 10, tzinfo=tzutc())},\n",
       "  {'Name': 'dev-team-haejo-backup',\n",
       "   'CreationDate': datetime.datetime(2024, 10, 10, 4, 36, 48, tzinfo=tzutc())},\n",
       "  {'Name': 'dev-team-haejo-rawdata',\n",
       "   'CreationDate': datetime.datetime(2024, 10, 10, 3, 41, 10, tzinfo=tzutc())},\n",
       "  {'Name': 'fast-solmi2',\n",
       "   'CreationDate': datetime.datetime(2024, 9, 30, 2, 39, 22, tzinfo=tzutc())},\n",
       "  {'Name': 'fastapi-backup',\n",
       "   'CreationDate': datetime.datetime(2024, 10, 23, 4, 50, 6, tzinfo=tzutc())},\n",
       "  {'Name': 'jstest-4t',\n",
       "   'CreationDate': datetime.datetime(2024, 10, 22, 3, 56, 20, tzinfo=tzutc())},\n",
       "  {'Name': 'preprocessing-4t',\n",
       "   'CreationDate': datetime.datetime(2024, 10, 10, 0, 34, 28, tzinfo=tzutc())},\n",
       "  {'Name': 'raw-data-4t',\n",
       "   'CreationDate': datetime.datetime(2024, 10, 10, 0, 31, 57, tzinfo=tzutc())},\n",
       "  {'Name': 'result-4t',\n",
       "   'CreationDate': datetime.datetime(2024, 10, 10, 0, 36, 1, tzinfo=tzutc())}],\n",
       " 'Owner': {'DisplayName': 'drunaws',\n",
       "  'ID': '8e5221f980e19f42c3aaf64048d77e26725b5c60f2093190e4653f4e9518c209'}}"
      ]
     },
     "execution_count": 8,
     "metadata": {},
     "output_type": "execute_result"
    }
   ],
   "source": [
    "# 모든 버킷 목록 가져오기\n",
    "response = s3.list_buckets()\n",
    "response"
   ]
  },
  {
   "cell_type": "code",
   "execution_count": 9,
   "metadata": {},
   "outputs": [
    {
     "name": "stdout",
     "output_type": "stream",
     "text": [
      "big9-example\n",
      "bigdata9-ara\n",
      "bigdata9-dongin\n",
      "bigdata9-ktk\n",
      "bigdata9-manhye\n",
      "bigdata9-seungyeon\n",
      "bigdata9-sooz\n",
      "bigdata9-yewon\n",
      "bigdata9-yura\n",
      "dev-team-haejo-backup\n",
      "dev-team-haejo-rawdata\n",
      "fast-solmi2\n",
      "fastapi-backup\n",
      "jstest-4t\n",
      "preprocessing-4t\n",
      "raw-data-4t\n",
      "result-4t\n"
     ]
    }
   ],
   "source": [
    "# 버킷 이름 출력\n",
    "for bucket in response['Buckets']:\n",
    "    print(bucket['Name'])"
   ]
  },
  {
   "cell_type": "code",
   "execution_count": 10,
   "metadata": {},
   "outputs": [
    {
     "name": "stdout",
     "output_type": "stream",
     "text": [
      "버킷 my--bucket-big9-yura-big9-1234이(가) 생성되었습니다.\n"
     ]
    }
   ],
   "source": [
    "# S3 버킷 이름 정의\n",
    "my_bucket_name = input('버킷의 이름을 입력하세요\\n')\n",
    "bucket_number = 12345\n",
    "\n",
    "input_number = input('버킷 고유 숫자를 입력하세요.\\n미입력 시 기본 숫자인 12345로 지정됩니다.\\n')\n",
    "while True:\n",
    "    if input_number == '':\n",
    "        print('12345로 지정됩니다.')\n",
    "        break\n",
    "    else:\n",
    "        try:\n",
    "            number_check = int(input_number)\n",
    "            if type(number_check) == int:\n",
    "                bucket_number = number_check\n",
    "                break\n",
    "            else:\n",
    "                print('숫자를 입력해주세요')\n",
    "        except:\n",
    "            print('숫자를 입력해주세요')\n",
    "            \n",
    "                \n",
    "\n",
    "bucket_name = f'my--bucket-big9-{my_bucket_name}-{bucket_number}'\n",
    "\n",
    "# S3 버킷 생성\n",
    "s3.create_bucket(Bucket=bucket_name)\n",
    "\n",
    "print(f'버킷 {bucket_name}이(가) 생성되었습니다.')\n"
   ]
  },
  {
   "cell_type": "code",
   "execution_count": 12,
   "metadata": {},
   "outputs": [
    {
     "name": "stdout",
     "output_type": "stream",
     "text": [
      "big9-example\n",
      "bigdata9-ara\n",
      "bigdata9-dongin\n",
      "bigdata9-ktk\n",
      "bigdata9-manhye\n",
      "bigdata9-seungyeon\n",
      "bigdata9-sooz\n",
      "bigdata9-yewon\n",
      "bigdata9-yura\n",
      "dev-team-haejo-backup\n",
      "dev-team-haejo-rawdata\n",
      "fast-solmi2\n",
      "fastapi-backup\n",
      "jstest-4t\n",
      "my--bucket-big9-kwaktaekyeong-75579\n",
      "my--bucket-big9-seungyeon-big9-13579\n",
      "my--bucket-big9-yewon-big9-32415\n",
      "my--bucket-big9-yura-big9-1234\n",
      "preprocessing-4t\n",
      "raw-data-4t\n",
      "result-4t\n"
     ]
    }
   ],
   "source": [
    "# 생성 확인\n",
    "# 모든 버킷 목록 가져오기\n",
    "response = s3.list_buckets()\n",
    "\n",
    "# 버킷 이름 출력\n",
    "for bucket in response['Buckets']:\n",
    "    print(bucket['Name'])"
   ]
  },
  {
   "cell_type": "markdown",
   "metadata": {},
   "source": [
    "## EC2 실행하기"
   ]
  },
  {
   "cell_type": "code",
   "execution_count": 13,
   "metadata": {},
   "outputs": [],
   "source": [
    "ec2 = boto3.client('ec2', \n",
    "                   region_name=REGION,\n",
    "                   aws_access_key_id=ACCESS_KEY,\n",
    "                   aws_secret_access_key=SECRET_KEY)"
   ]
  },
  {
   "cell_type": "code",
   "execution_count": 16,
   "metadata": {},
   "outputs": [
    {
     "name": "stdout",
     "output_type": "stream",
     "text": [
      "{'Reservations': [{'ReservationId': 'r-0fe690bf789c9059e', 'OwnerId': '339712929315', 'Groups': [], 'Instances': [{'Architecture': 'x86_64', 'BlockDeviceMappings': [{'DeviceName': '/dev/sda1', 'Ebs': {'AttachTime': datetime.datetime(2024, 10, 22, 1, 31, 32, tzinfo=tzutc()), 'DeleteOnTermination': True, 'Status': 'attached', 'VolumeId': 'vol-03efda652e32789e0'}}], 'ClientToken': 'f642a5b4-719c-4630-a7e1-0293607bfdbf', 'EbsOptimized': False, 'EnaSupport': True, 'Hypervisor': 'xen', 'NetworkInterfaces': [{'Attachment': {'AttachTime': datetime.datetime(2024, 10, 22, 1, 31, 32, tzinfo=tzutc()), 'AttachmentId': 'eni-attach-06ca9d897c0065c45', 'DeleteOnTermination': True, 'DeviceIndex': 0, 'Status': 'attached', 'NetworkCardIndex': 0}, 'Description': '', 'Groups': [{'GroupId': 'sg-0ddc9ec4ce7b5fb71', 'GroupName': 'secure_bigdata9_4'}], 'Ipv6Addresses': [], 'MacAddress': '0a:28:ac:0e:3f:a7', 'NetworkInterfaceId': 'eni-0d7b5b57f4bfddb38', 'OwnerId': '339712929315', 'PrivateDnsName': 'ip-172-31-45-126.ap-northeast-2.compute.internal', 'PrivateIpAddress': '172.31.45.126', 'PrivateIpAddresses': [{'Primary': True, 'PrivateDnsName': 'ip-172-31-45-126.ap-northeast-2.compute.internal', 'PrivateIpAddress': '172.31.45.126'}], 'SourceDestCheck': True, 'Status': 'in-use', 'SubnetId': 'subnet-044e9346f4124c05d', 'VpcId': 'vpc-047649da2321a2d91', 'InterfaceType': 'interface'}], 'RootDeviceName': '/dev/sda1', 'RootDeviceType': 'ebs', 'SecurityGroups': [{'GroupId': 'sg-0ddc9ec4ce7b5fb71', 'GroupName': 'secure_bigdata9_4'}], 'SourceDestCheck': True, 'StateReason': {'Code': 'Client.UserInitiatedShutdown', 'Message': 'Client.UserInitiatedShutdown: User initiated shutdown'}, 'Tags': [{'Key': 'Name', 'Value': 'bigdata9_4'}], 'VirtualizationType': 'hvm', 'CpuOptions': {'CoreCount': 1, 'ThreadsPerCore': 1}, 'CapacityReservationSpecification': {'CapacityReservationPreference': 'open'}, 'HibernationOptions': {'Configured': False}, 'MetadataOptions': {'State': 'applied', 'HttpTokens': 'required', 'HttpPutResponseHopLimit': 2, 'HttpEndpoint': 'enabled', 'HttpProtocolIpv6': 'disabled', 'InstanceMetadataTags': 'disabled'}, 'EnclaveOptions': {'Enabled': False}, 'BootMode': 'uefi-preferred', 'PlatformDetails': 'Linux/UNIX', 'UsageOperation': 'RunInstances', 'UsageOperationUpdateTime': datetime.datetime(2024, 10, 22, 1, 31, 32, tzinfo=tzutc()), 'PrivateDnsNameOptions': {'HostnameType': 'ip-name', 'EnableResourceNameDnsARecord': True, 'EnableResourceNameDnsAAAARecord': False}, 'MaintenanceOptions': {'AutoRecovery': 'default'}, 'CurrentInstanceBootMode': 'legacy-bios', 'InstanceId': 'i-0d6523a0665547847', 'ImageId': 'ami-040c33c6a51fd5d96', 'State': {'Code': 80, 'Name': 'stopped'}, 'PrivateDnsName': 'ip-172-31-45-126.ap-northeast-2.compute.internal', 'PublicDnsName': '', 'StateTransitionReason': 'User initiated (2024-10-23 02:33:06 GMT)', 'KeyName': 'bigdata9_4', 'AmiLaunchIndex': 0, 'ProductCodes': [], 'InstanceType': 't2.micro', 'LaunchTime': datetime.datetime(2024, 10, 22, 1, 31, 32, tzinfo=tzutc()), 'Placement': {'GroupName': '', 'Tenancy': 'default', 'AvailabilityZone': 'ap-northeast-2c'}, 'Monitoring': {'State': 'disabled'}, 'SubnetId': 'subnet-044e9346f4124c05d', 'VpcId': 'vpc-047649da2321a2d91', 'PrivateIpAddress': '172.31.45.126'}]}, {'ReservationId': 'r-0888e22b4ceefdc50', 'OwnerId': '339712929315', 'Groups': [], 'Instances': [{'Architecture': 'x86_64', 'BlockDeviceMappings': [{'DeviceName': '/dev/sda1', 'Ebs': {'AttachTime': datetime.datetime(2024, 10, 22, 1, 30, 49, tzinfo=tzutc()), 'DeleteOnTermination': True, 'Status': 'attached', 'VolumeId': 'vol-0db6bfafadd05cf9a'}}], 'ClientToken': 'b2ae599c-e4aa-4a56-abe4-d2efdf6bbb12', 'EbsOptimized': False, 'EnaSupport': True, 'Hypervisor': 'xen', 'NetworkInterfaces': [{'Association': {'IpOwnerId': 'amazon', 'PublicDnsName': 'ec2-13-209-50-89.ap-northeast-2.compute.amazonaws.com', 'PublicIp': '13.209.50.89'}, 'Attachment': {'AttachTime': datetime.datetime(2024, 10, 22, 1, 30, 49, tzinfo=tzutc()), 'AttachmentId': 'eni-attach-001dd6be2e92e4009', 'DeleteOnTermination': True, 'DeviceIndex': 0, 'Status': 'attached', 'NetworkCardIndex': 0}, 'Description': '', 'Groups': [{'GroupId': 'sg-0da91b0e85e04183e', 'GroupName': 'secure_bigdata9_5'}], 'Ipv6Addresses': [], 'MacAddress': '0a:ab:c6:62:02:0f', 'NetworkInterfaceId': 'eni-0f0de4a2d083282a8', 'OwnerId': '339712929315', 'PrivateDnsName': 'ip-172-31-45-219.ap-northeast-2.compute.internal', 'PrivateIpAddress': '172.31.45.219', 'PrivateIpAddresses': [{'Association': {'IpOwnerId': 'amazon', 'PublicDnsName': 'ec2-13-209-50-89.ap-northeast-2.compute.amazonaws.com', 'PublicIp': '13.209.50.89'}, 'Primary': True, 'PrivateDnsName': 'ip-172-31-45-219.ap-northeast-2.compute.internal', 'PrivateIpAddress': '172.31.45.219'}], 'SourceDestCheck': True, 'Status': 'in-use', 'SubnetId': 'subnet-044e9346f4124c05d', 'VpcId': 'vpc-047649da2321a2d91', 'InterfaceType': 'interface'}], 'RootDeviceName': '/dev/sda1', 'RootDeviceType': 'ebs', 'SecurityGroups': [{'GroupId': 'sg-0da91b0e85e04183e', 'GroupName': 'secure_bigdata9_5'}], 'SourceDestCheck': True, 'Tags': [{'Key': 'Name', 'Value': 'bigdata9_5'}], 'VirtualizationType': 'hvm', 'CpuOptions': {'CoreCount': 1, 'ThreadsPerCore': 1}, 'CapacityReservationSpecification': {'CapacityReservationPreference': 'open'}, 'HibernationOptions': {'Configured': False}, 'MetadataOptions': {'State': 'applied', 'HttpTokens': 'required', 'HttpPutResponseHopLimit': 2, 'HttpEndpoint': 'enabled', 'HttpProtocolIpv6': 'disabled', 'InstanceMetadataTags': 'disabled'}, 'EnclaveOptions': {'Enabled': False}, 'BootMode': 'uefi-preferred', 'PlatformDetails': 'Linux/UNIX', 'UsageOperation': 'RunInstances', 'UsageOperationUpdateTime': datetime.datetime(2024, 10, 22, 1, 30, 49, tzinfo=tzutc()), 'PrivateDnsNameOptions': {'HostnameType': 'ip-name', 'EnableResourceNameDnsARecord': True, 'EnableResourceNameDnsAAAARecord': False}, 'MaintenanceOptions': {'AutoRecovery': 'default'}, 'CurrentInstanceBootMode': 'legacy-bios', 'InstanceId': 'i-02cb1e1f49ed9e266', 'ImageId': 'ami-040c33c6a51fd5d96', 'State': {'Code': 16, 'Name': 'running'}, 'PrivateDnsName': 'ip-172-31-45-219.ap-northeast-2.compute.internal', 'PublicDnsName': 'ec2-13-209-50-89.ap-northeast-2.compute.amazonaws.com', 'StateTransitionReason': '', 'KeyName': 'bigdata9_5', 'AmiLaunchIndex': 0, 'ProductCodes': [], 'InstanceType': 't2.micro', 'LaunchTime': datetime.datetime(2024, 10, 22, 1, 30, 49, tzinfo=tzutc()), 'Placement': {'GroupName': '', 'Tenancy': 'default', 'AvailabilityZone': 'ap-northeast-2c'}, 'Monitoring': {'State': 'disabled'}, 'SubnetId': 'subnet-044e9346f4124c05d', 'VpcId': 'vpc-047649da2321a2d91', 'PrivateIpAddress': '172.31.45.219', 'PublicIpAddress': '13.209.50.89'}]}, {'ReservationId': 'r-07a12b4db1b8762dc', 'OwnerId': '339712929315', 'Groups': [], 'Instances': [{'Architecture': 'x86_64', 'BlockDeviceMappings': [{'DeviceName': '/dev/sda1', 'Ebs': {'AttachTime': datetime.datetime(2024, 10, 22, 1, 31, 14, tzinfo=tzutc()), 'DeleteOnTermination': True, 'Status': 'attached', 'VolumeId': 'vol-043bc20cc356a6dc0'}}], 'ClientToken': '6d83ab02-4bb9-454e-805d-ce4f13fc6f06', 'EbsOptimized': False, 'EnaSupport': True, 'Hypervisor': 'xen', 'NetworkInterfaces': [{'Attachment': {'AttachTime': datetime.datetime(2024, 10, 22, 1, 31, 13, tzinfo=tzutc()), 'AttachmentId': 'eni-attach-0bd4f069f3c0ab2f1', 'DeleteOnTermination': True, 'DeviceIndex': 0, 'Status': 'attached', 'NetworkCardIndex': 0}, 'Description': '', 'Groups': [{'GroupId': 'sg-04797aaa272c633f5', 'GroupName': 'bigdata9_3'}], 'Ipv6Addresses': [], 'MacAddress': '0a:01:5f:9c:d3:75', 'NetworkInterfaceId': 'eni-0c576de80e9d7c39b', 'OwnerId': '339712929315', 'PrivateDnsName': 'ip-172-31-32-200.ap-northeast-2.compute.internal', 'PrivateIpAddress': '172.31.32.200', 'PrivateIpAddresses': [{'Primary': True, 'PrivateDnsName': 'ip-172-31-32-200.ap-northeast-2.compute.internal', 'PrivateIpAddress': '172.31.32.200'}], 'SourceDestCheck': True, 'Status': 'in-use', 'SubnetId': 'subnet-044e9346f4124c05d', 'VpcId': 'vpc-047649da2321a2d91', 'InterfaceType': 'interface'}], 'RootDeviceName': '/dev/sda1', 'RootDeviceType': 'ebs', 'SecurityGroups': [{'GroupId': 'sg-04797aaa272c633f5', 'GroupName': 'bigdata9_3'}], 'SourceDestCheck': True, 'StateReason': {'Code': 'Client.UserInitiatedShutdown', 'Message': 'Client.UserInitiatedShutdown: User initiated shutdown'}, 'Tags': [{'Key': 'Name', 'Value': 'bigdata9_3'}], 'VirtualizationType': 'hvm', 'CpuOptions': {'CoreCount': 1, 'ThreadsPerCore': 1}, 'CapacityReservationSpecification': {'CapacityReservationPreference': 'open'}, 'HibernationOptions': {'Configured': False}, 'MetadataOptions': {'State': 'applied', 'HttpTokens': 'required', 'HttpPutResponseHopLimit': 2, 'HttpEndpoint': 'enabled', 'HttpProtocolIpv6': 'disabled', 'InstanceMetadataTags': 'disabled'}, 'EnclaveOptions': {'Enabled': False}, 'BootMode': 'uefi-preferred', 'PlatformDetails': 'Linux/UNIX', 'UsageOperation': 'RunInstances', 'UsageOperationUpdateTime': datetime.datetime(2024, 10, 22, 1, 31, 13, tzinfo=tzutc()), 'PrivateDnsNameOptions': {'HostnameType': 'ip-name', 'EnableResourceNameDnsARecord': True, 'EnableResourceNameDnsAAAARecord': False}, 'MaintenanceOptions': {'AutoRecovery': 'default'}, 'CurrentInstanceBootMode': 'legacy-bios', 'InstanceId': 'i-00c9029f2a121f86c', 'ImageId': 'ami-040c33c6a51fd5d96', 'State': {'Code': 80, 'Name': 'stopped'}, 'PrivateDnsName': 'ip-172-31-32-200.ap-northeast-2.compute.internal', 'PublicDnsName': '', 'StateTransitionReason': 'User initiated (2024-10-23 02:32:53 GMT)', 'KeyName': 'bigdata9_3', 'AmiLaunchIndex': 0, 'ProductCodes': [], 'InstanceType': 't2.micro', 'LaunchTime': datetime.datetime(2024, 10, 22, 6, 59, 35, tzinfo=tzutc()), 'Placement': {'GroupName': '', 'Tenancy': 'default', 'AvailabilityZone': 'ap-northeast-2c'}, 'Monitoring': {'State': 'disabled'}, 'SubnetId': 'subnet-044e9346f4124c05d', 'VpcId': 'vpc-047649da2321a2d91', 'PrivateIpAddress': '172.31.32.200'}]}, {'ReservationId': 'r-0ed97bd7f9e6ae8ce', 'OwnerId': '339712929315', 'Groups': [], 'Instances': [{'Architecture': 'x86_64', 'BlockDeviceMappings': [{'DeviceName': '/dev/sda1', 'Ebs': {'AttachTime': datetime.datetime(2024, 10, 22, 1, 34, 17, tzinfo=tzutc()), 'DeleteOnTermination': True, 'Status': 'attached', 'VolumeId': 'vol-06bd1b849f400a178'}}], 'ClientToken': 'e57e87bb-5578-41d9-981f-bbfcf10bc479', 'EbsOptimized': False, 'EnaSupport': True, 'Hypervisor': 'xen', 'NetworkInterfaces': [{'Association': {'IpOwnerId': 'amazon', 'PublicDnsName': 'ec2-43-201-78-178.ap-northeast-2.compute.amazonaws.com', 'PublicIp': '43.201.78.178'}, 'Attachment': {'AttachTime': datetime.datetime(2024, 10, 22, 1, 34, 16, tzinfo=tzutc()), 'AttachmentId': 'eni-attach-031f033d8aab2d6ea', 'DeleteOnTermination': True, 'DeviceIndex': 0, 'Status': 'attached', 'NetworkCardIndex': 0}, 'Description': '', 'Groups': [{'GroupId': 'sg-094936cd590c5373a', 'GroupName': 'secure_bigdata9_1'}], 'Ipv6Addresses': [], 'MacAddress': '0a:b5:f0:c8:5e:61', 'NetworkInterfaceId': 'eni-0e080ab8043e4e8c2', 'OwnerId': '339712929315', 'PrivateDnsName': 'ip-172-31-45-137.ap-northeast-2.compute.internal', 'PrivateIpAddress': '172.31.45.137', 'PrivateIpAddresses': [{'Association': {'IpOwnerId': 'amazon', 'PublicDnsName': 'ec2-43-201-78-178.ap-northeast-2.compute.amazonaws.com', 'PublicIp': '43.201.78.178'}, 'Primary': True, 'PrivateDnsName': 'ip-172-31-45-137.ap-northeast-2.compute.internal', 'PrivateIpAddress': '172.31.45.137'}], 'SourceDestCheck': True, 'Status': 'in-use', 'SubnetId': 'subnet-044e9346f4124c05d', 'VpcId': 'vpc-047649da2321a2d91', 'InterfaceType': 'interface'}], 'RootDeviceName': '/dev/sda1', 'RootDeviceType': 'ebs', 'SecurityGroups': [{'GroupId': 'sg-094936cd590c5373a', 'GroupName': 'secure_bigdata9_1'}], 'SourceDestCheck': True, 'Tags': [{'Key': 'Name', 'Value': 'bigdata9_1'}], 'VirtualizationType': 'hvm', 'CpuOptions': {'CoreCount': 1, 'ThreadsPerCore': 1}, 'CapacityReservationSpecification': {'CapacityReservationPreference': 'open'}, 'HibernationOptions': {'Configured': False}, 'MetadataOptions': {'State': 'applied', 'HttpTokens': 'required', 'HttpPutResponseHopLimit': 2, 'HttpEndpoint': 'enabled', 'HttpProtocolIpv6': 'disabled', 'InstanceMetadataTags': 'disabled'}, 'EnclaveOptions': {'Enabled': False}, 'BootMode': 'uefi-preferred', 'PlatformDetails': 'Linux/UNIX', 'UsageOperation': 'RunInstances', 'UsageOperationUpdateTime': datetime.datetime(2024, 10, 22, 1, 34, 16, tzinfo=tzutc()), 'PrivateDnsNameOptions': {'HostnameType': 'ip-name', 'EnableResourceNameDnsARecord': True, 'EnableResourceNameDnsAAAARecord': False}, 'MaintenanceOptions': {'AutoRecovery': 'default'}, 'CurrentInstanceBootMode': 'legacy-bios', 'InstanceId': 'i-049b798ae860de290', 'ImageId': 'ami-040c33c6a51fd5d96', 'State': {'Code': 16, 'Name': 'running'}, 'PrivateDnsName': 'ip-172-31-45-137.ap-northeast-2.compute.internal', 'PublicDnsName': 'ec2-43-201-78-178.ap-northeast-2.compute.amazonaws.com', 'StateTransitionReason': '', 'KeyName': 'bigdata9_1', 'AmiLaunchIndex': 0, 'ProductCodes': [], 'InstanceType': 't2.micro', 'LaunchTime': datetime.datetime(2024, 10, 22, 1, 34, 16, tzinfo=tzutc()), 'Placement': {'GroupName': '', 'Tenancy': 'default', 'AvailabilityZone': 'ap-northeast-2c'}, 'Monitoring': {'State': 'disabled'}, 'SubnetId': 'subnet-044e9346f4124c05d', 'VpcId': 'vpc-047649da2321a2d91', 'PrivateIpAddress': '172.31.45.137', 'PublicIpAddress': '43.201.78.178'}]}, {'ReservationId': 'r-0fb6a796567aa666a', 'OwnerId': '339712929315', 'Groups': [], 'Instances': [{'Architecture': 'x86_64', 'BlockDeviceMappings': [{'DeviceName': '/dev/sda1', 'Ebs': {'AttachTime': datetime.datetime(2024, 10, 22, 1, 30, 49, tzinfo=tzutc()), 'DeleteOnTermination': True, 'Status': 'attached', 'VolumeId': 'vol-07be52161ee784176'}}], 'ClientToken': '9b240d75-17dc-4abe-821c-97bd2c8ab09c', 'EbsOptimized': False, 'EnaSupport': True, 'Hypervisor': 'xen', 'NetworkInterfaces': [{'Attachment': {'AttachTime': datetime.datetime(2024, 10, 22, 1, 30, 48, tzinfo=tzutc()), 'AttachmentId': 'eni-attach-0d922843ba4f5db2a', 'DeleteOnTermination': True, 'DeviceIndex': 0, 'Status': 'attached', 'NetworkCardIndex': 0}, 'Description': '', 'Groups': [{'GroupId': 'sg-0701b490b6ac8e8e8', 'GroupName': 'secure_bigdata9_7'}], 'Ipv6Addresses': [], 'MacAddress': '0a:5e:8f:a1:2a:a3', 'NetworkInterfaceId': 'eni-0560e008dc8b54986', 'OwnerId': '339712929315', 'PrivateDnsName': 'ip-172-31-38-224.ap-northeast-2.compute.internal', 'PrivateIpAddress': '172.31.38.224', 'PrivateIpAddresses': [{'Primary': True, 'PrivateDnsName': 'ip-172-31-38-224.ap-northeast-2.compute.internal', 'PrivateIpAddress': '172.31.38.224'}], 'SourceDestCheck': True, 'Status': 'in-use', 'SubnetId': 'subnet-044e9346f4124c05d', 'VpcId': 'vpc-047649da2321a2d91', 'InterfaceType': 'interface'}], 'RootDeviceName': '/dev/sda1', 'RootDeviceType': 'ebs', 'SecurityGroups': [{'GroupId': 'sg-0701b490b6ac8e8e8', 'GroupName': 'secure_bigdata9_7'}], 'SourceDestCheck': True, 'StateReason': {'Code': 'Client.UserInitiatedShutdown', 'Message': 'Client.UserInitiatedShutdown: User initiated shutdown'}, 'Tags': [{'Key': 'Name', 'Value': 'bigdata9_7'}], 'VirtualizationType': 'hvm', 'CpuOptions': {'CoreCount': 1, 'ThreadsPerCore': 1}, 'CapacityReservationSpecification': {'CapacityReservationPreference': 'open'}, 'HibernationOptions': {'Configured': False}, 'MetadataOptions': {'State': 'applied', 'HttpTokens': 'required', 'HttpPutResponseHopLimit': 2, 'HttpEndpoint': 'enabled', 'HttpProtocolIpv6': 'disabled', 'InstanceMetadataTags': 'disabled'}, 'EnclaveOptions': {'Enabled': False}, 'BootMode': 'uefi-preferred', 'PlatformDetails': 'Linux/UNIX', 'UsageOperation': 'RunInstances', 'UsageOperationUpdateTime': datetime.datetime(2024, 10, 22, 1, 30, 48, tzinfo=tzutc()), 'PrivateDnsNameOptions': {'HostnameType': 'ip-name', 'EnableResourceNameDnsARecord': True, 'EnableResourceNameDnsAAAARecord': False}, 'MaintenanceOptions': {'AutoRecovery': 'default'}, 'CurrentInstanceBootMode': 'legacy-bios', 'InstanceId': 'i-07abc88f15ce9774d', 'ImageId': 'ami-040c33c6a51fd5d96', 'State': {'Code': 80, 'Name': 'stopped'}, 'PrivateDnsName': 'ip-172-31-38-224.ap-northeast-2.compute.internal', 'PublicDnsName': '', 'StateTransitionReason': 'User initiated (2024-10-23 02:33:02 GMT)', 'KeyName': 'bigdata9_7', 'AmiLaunchIndex': 0, 'ProductCodes': [], 'InstanceType': 't2.micro', 'LaunchTime': datetime.datetime(2024, 10, 22, 1, 30, 48, tzinfo=tzutc()), 'Placement': {'GroupName': '', 'Tenancy': 'default', 'AvailabilityZone': 'ap-northeast-2c'}, 'Monitoring': {'State': 'disabled'}, 'SubnetId': 'subnet-044e9346f4124c05d', 'VpcId': 'vpc-047649da2321a2d91', 'PrivateIpAddress': '172.31.38.224'}]}, {'ReservationId': 'r-0bfe772b3c02b5685', 'OwnerId': '339712929315', 'Groups': [], 'Instances': [{'Architecture': 'x86_64', 'BlockDeviceMappings': [{'DeviceName': '/dev/sda1', 'Ebs': {'AttachTime': datetime.datetime(2024, 10, 22, 1, 30, 51, tzinfo=tzutc()), 'DeleteOnTermination': True, 'Status': 'attached', 'VolumeId': 'vol-0a4763987cf5aed38'}}], 'ClientToken': '35451672-a975-43d1-8d2e-009e59fbabec', 'EbsOptimized': False, 'EnaSupport': True, 'Hypervisor': 'xen', 'NetworkInterfaces': [{'Attachment': {'AttachTime': datetime.datetime(2024, 10, 22, 1, 30, 51, tzinfo=tzutc()), 'AttachmentId': 'eni-attach-0b481dc35c00848f5', 'DeleteOnTermination': True, 'DeviceIndex': 0, 'Status': 'attached', 'NetworkCardIndex': 0}, 'Description': '', 'Groups': [{'GroupId': 'sg-0577389a33139eaa3', 'GroupName': 'secure_bigdata9_teacher'}], 'Ipv6Addresses': [], 'MacAddress': '0a:c1:e3:5e:f5:d9', 'NetworkInterfaceId': 'eni-06fc4d97cd0ad34a7', 'OwnerId': '339712929315', 'PrivateDnsName': 'ip-172-31-39-39.ap-northeast-2.compute.internal', 'PrivateIpAddress': '172.31.39.39', 'PrivateIpAddresses': [{'Primary': True, 'PrivateDnsName': 'ip-172-31-39-39.ap-northeast-2.compute.internal', 'PrivateIpAddress': '172.31.39.39'}], 'SourceDestCheck': True, 'Status': 'in-use', 'SubnetId': 'subnet-044e9346f4124c05d', 'VpcId': 'vpc-047649da2321a2d91', 'InterfaceType': 'interface'}], 'RootDeviceName': '/dev/sda1', 'RootDeviceType': 'ebs', 'SecurityGroups': [{'GroupId': 'sg-0577389a33139eaa3', 'GroupName': 'secure_bigdata9_teacher'}], 'SourceDestCheck': True, 'StateReason': {'Code': 'Client.UserInitiatedShutdown', 'Message': 'Client.UserInitiatedShutdown: User initiated shutdown'}, 'Tags': [{'Key': 'Name', 'Value': 'bigdata9_teacher'}], 'VirtualizationType': 'hvm', 'CpuOptions': {'CoreCount': 1, 'ThreadsPerCore': 1}, 'CapacityReservationSpecification': {'CapacityReservationPreference': 'open'}, 'HibernationOptions': {'Configured': False}, 'MetadataOptions': {'State': 'applied', 'HttpTokens': 'required', 'HttpPutResponseHopLimit': 2, 'HttpEndpoint': 'enabled', 'HttpProtocolIpv6': 'disabled', 'InstanceMetadataTags': 'disabled'}, 'EnclaveOptions': {'Enabled': False}, 'BootMode': 'uefi-preferred', 'PlatformDetails': 'Linux/UNIX', 'UsageOperation': 'RunInstances', 'UsageOperationUpdateTime': datetime.datetime(2024, 10, 22, 1, 30, 51, tzinfo=tzutc()), 'PrivateDnsNameOptions': {'HostnameType': 'ip-name', 'EnableResourceNameDnsARecord': True, 'EnableResourceNameDnsAAAARecord': False}, 'MaintenanceOptions': {'AutoRecovery': 'default'}, 'CurrentInstanceBootMode': 'legacy-bios', 'InstanceId': 'i-0f43a01da4adc2bce', 'ImageId': 'ami-040c33c6a51fd5d96', 'State': {'Code': 80, 'Name': 'stopped'}, 'PrivateDnsName': 'ip-172-31-39-39.ap-northeast-2.compute.internal', 'PublicDnsName': '', 'StateTransitionReason': 'User initiated (2024-10-23 02:33:01 GMT)', 'KeyName': 'bigdata9_teacher', 'AmiLaunchIndex': 0, 'ProductCodes': [], 'InstanceType': 't2.micro', 'LaunchTime': datetime.datetime(2024, 10, 22, 1, 30, 51, tzinfo=tzutc()), 'Placement': {'GroupName': '', 'Tenancy': 'default', 'AvailabilityZone': 'ap-northeast-2c'}, 'Monitoring': {'State': 'disabled'}, 'SubnetId': 'subnet-044e9346f4124c05d', 'VpcId': 'vpc-047649da2321a2d91', 'PrivateIpAddress': '172.31.39.39'}]}, {'ReservationId': 'r-0db59eaffdf872be3', 'OwnerId': '339712929315', 'Groups': [], 'Instances': [{'Architecture': 'x86_64', 'BlockDeviceMappings': [{'DeviceName': '/dev/sda1', 'Ebs': {'AttachTime': datetime.datetime(2024, 10, 22, 1, 31, 1, tzinfo=tzutc()), 'DeleteOnTermination': True, 'Status': 'attached', 'VolumeId': 'vol-071170f6d77545554'}}], 'ClientToken': 'a6696375-6875-4b61-a960-f917caf58a30', 'EbsOptimized': False, 'EnaSupport': True, 'Hypervisor': 'xen', 'NetworkInterfaces': [{'Attachment': {'AttachTime': datetime.datetime(2024, 10, 22, 1, 31, tzinfo=tzutc()), 'AttachmentId': 'eni-attach-06b6717830004233c', 'DeleteOnTermination': True, 'DeviceIndex': 0, 'Status': 'attached', 'NetworkCardIndex': 0}, 'Description': '', 'Groups': [{'GroupId': 'sg-0736471bc0ce27a49', 'GroupName': 'secure_bigdata9_2'}], 'Ipv6Addresses': [], 'MacAddress': '0a:a7:1c:a8:15:2d', 'NetworkInterfaceId': 'eni-00bb8385a63d04fb6', 'OwnerId': '339712929315', 'PrivateDnsName': 'ip-172-31-42-234.ap-northeast-2.compute.internal', 'PrivateIpAddress': '172.31.42.234', 'PrivateIpAddresses': [{'Primary': True, 'PrivateDnsName': 'ip-172-31-42-234.ap-northeast-2.compute.internal', 'PrivateIpAddress': '172.31.42.234'}], 'SourceDestCheck': True, 'Status': 'in-use', 'SubnetId': 'subnet-044e9346f4124c05d', 'VpcId': 'vpc-047649da2321a2d91', 'InterfaceType': 'interface'}], 'RootDeviceName': '/dev/sda1', 'RootDeviceType': 'ebs', 'SecurityGroups': [{'GroupId': 'sg-0736471bc0ce27a49', 'GroupName': 'secure_bigdata9_2'}], 'SourceDestCheck': True, 'StateReason': {'Code': 'Client.UserInitiatedShutdown', 'Message': 'Client.UserInitiatedShutdown: User initiated shutdown'}, 'Tags': [{'Key': 'Name', 'Value': 'bigdata9_2'}], 'VirtualizationType': 'hvm', 'CpuOptions': {'CoreCount': 1, 'ThreadsPerCore': 1}, 'CapacityReservationSpecification': {'CapacityReservationPreference': 'open'}, 'HibernationOptions': {'Configured': False}, 'MetadataOptions': {'State': 'applied', 'HttpTokens': 'required', 'HttpPutResponseHopLimit': 2, 'HttpEndpoint': 'enabled', 'HttpProtocolIpv6': 'disabled', 'InstanceMetadataTags': 'disabled'}, 'EnclaveOptions': {'Enabled': False}, 'BootMode': 'uefi-preferred', 'PlatformDetails': 'Linux/UNIX', 'UsageOperation': 'RunInstances', 'UsageOperationUpdateTime': datetime.datetime(2024, 10, 22, 1, 31, tzinfo=tzutc()), 'PrivateDnsNameOptions': {'HostnameType': 'ip-name', 'EnableResourceNameDnsARecord': True, 'EnableResourceNameDnsAAAARecord': False}, 'MaintenanceOptions': {'AutoRecovery': 'default'}, 'CurrentInstanceBootMode': 'legacy-bios', 'InstanceId': 'i-0a0269754b3dcac06', 'ImageId': 'ami-040c33c6a51fd5d96', 'State': {'Code': 80, 'Name': 'stopped'}, 'PrivateDnsName': 'ip-172-31-42-234.ap-northeast-2.compute.internal', 'PublicDnsName': '', 'StateTransitionReason': 'User initiated (2024-10-23 02:33:02 GMT)', 'KeyName': 'bigdata9_2', 'AmiLaunchIndex': 0, 'ProductCodes': [], 'InstanceType': 't2.micro', 'LaunchTime': datetime.datetime(2024, 10, 22, 1, 31, tzinfo=tzutc()), 'Placement': {'GroupName': '', 'Tenancy': 'default', 'AvailabilityZone': 'ap-northeast-2c'}, 'Monitoring': {'State': 'disabled'}, 'SubnetId': 'subnet-044e9346f4124c05d', 'VpcId': 'vpc-047649da2321a2d91', 'PrivateIpAddress': '172.31.42.234'}]}, {'ReservationId': 'r-0f65589af8ff99e50', 'OwnerId': '339712929315', 'Groups': [], 'Instances': [{'Architecture': 'x86_64', 'BlockDeviceMappings': [{'DeviceName': '/dev/sda1', 'Ebs': {'AttachTime': datetime.datetime(2024, 10, 22, 1, 31, 3, tzinfo=tzutc()), 'DeleteOnTermination': True, 'Status': 'attached', 'VolumeId': 'vol-016bf152e0aa81b91'}}], 'ClientToken': '3d496101-ca1c-444e-b439-c876180dd74a', 'EbsOptimized': False, 'EnaSupport': True, 'Hypervisor': 'xen', 'NetworkInterfaces': [{'Association': {'IpOwnerId': 'amazon', 'PublicDnsName': 'ec2-54-180-86-169.ap-northeast-2.compute.amazonaws.com', 'PublicIp': '54.180.86.169'}, 'Attachment': {'AttachTime': datetime.datetime(2024, 10, 22, 1, 31, 2, tzinfo=tzutc()), 'AttachmentId': 'eni-attach-0d345371ce8eadebe', 'DeleteOnTermination': True, 'DeviceIndex': 0, 'Status': 'attached', 'NetworkCardIndex': 0}, 'Description': '', 'Groups': [{'GroupId': 'sg-09e75a6b50d80c03d', 'GroupName': 'secure_bigdata9_6'}], 'Ipv6Addresses': [], 'MacAddress': '0a:e7:60:c3:a1:e1', 'NetworkInterfaceId': 'eni-00536a0600bddfac6', 'OwnerId': '339712929315', 'PrivateDnsName': 'ip-172-31-38-191.ap-northeast-2.compute.internal', 'PrivateIpAddress': '172.31.38.191', 'PrivateIpAddresses': [{'Association': {'IpOwnerId': 'amazon', 'PublicDnsName': 'ec2-54-180-86-169.ap-northeast-2.compute.amazonaws.com', 'PublicIp': '54.180.86.169'}, 'Primary': True, 'PrivateDnsName': 'ip-172-31-38-191.ap-northeast-2.compute.internal', 'PrivateIpAddress': '172.31.38.191'}], 'SourceDestCheck': True, 'Status': 'in-use', 'SubnetId': 'subnet-044e9346f4124c05d', 'VpcId': 'vpc-047649da2321a2d91', 'InterfaceType': 'interface'}], 'RootDeviceName': '/dev/sda1', 'RootDeviceType': 'ebs', 'SecurityGroups': [{'GroupId': 'sg-09e75a6b50d80c03d', 'GroupName': 'secure_bigdata9_6'}], 'SourceDestCheck': True, 'Tags': [{'Key': 'Name', 'Value': 'bigdata9_6'}], 'VirtualizationType': 'hvm', 'CpuOptions': {'CoreCount': 1, 'ThreadsPerCore': 1}, 'CapacityReservationSpecification': {'CapacityReservationPreference': 'open'}, 'HibernationOptions': {'Configured': False}, 'MetadataOptions': {'State': 'applied', 'HttpTokens': 'required', 'HttpPutResponseHopLimit': 2, 'HttpEndpoint': 'enabled', 'HttpProtocolIpv6': 'disabled', 'InstanceMetadataTags': 'disabled'}, 'EnclaveOptions': {'Enabled': False}, 'BootMode': 'uefi-preferred', 'PlatformDetails': 'Linux/UNIX', 'UsageOperation': 'RunInstances', 'UsageOperationUpdateTime': datetime.datetime(2024, 10, 22, 1, 31, 2, tzinfo=tzutc()), 'PrivateDnsNameOptions': {'HostnameType': 'ip-name', 'EnableResourceNameDnsARecord': True, 'EnableResourceNameDnsAAAARecord': False}, 'MaintenanceOptions': {'AutoRecovery': 'default'}, 'CurrentInstanceBootMode': 'legacy-bios', 'InstanceId': 'i-0d71d22c691636eba', 'ImageId': 'ami-040c33c6a51fd5d96', 'State': {'Code': 16, 'Name': 'running'}, 'PrivateDnsName': 'ip-172-31-38-191.ap-northeast-2.compute.internal', 'PublicDnsName': 'ec2-54-180-86-169.ap-northeast-2.compute.amazonaws.com', 'StateTransitionReason': '', 'KeyName': 'bigdata9_6', 'AmiLaunchIndex': 0, 'ProductCodes': [], 'InstanceType': 't2.micro', 'LaunchTime': datetime.datetime(2024, 10, 22, 1, 31, 2, tzinfo=tzutc()), 'Placement': {'GroupName': '', 'Tenancy': 'default', 'AvailabilityZone': 'ap-northeast-2c'}, 'Monitoring': {'State': 'disabled'}, 'SubnetId': 'subnet-044e9346f4124c05d', 'VpcId': 'vpc-047649da2321a2d91', 'PrivateIpAddress': '172.31.38.191', 'PublicIpAddress': '54.180.86.169'}]}, {'ReservationId': 'r-07c7d7952d1067c67', 'OwnerId': '339712929315', 'Groups': [], 'Instances': [{'Architecture': 'x86_64', 'BlockDeviceMappings': [{'DeviceName': '/dev/sda1', 'Ebs': {'AttachTime': datetime.datetime(2024, 10, 22, 4, 50, 8, tzinfo=tzutc()), 'DeleteOnTermination': True, 'Status': 'attached', 'VolumeId': 'vol-0e5f4440e074bdd5f'}}], 'ClientToken': '302276de-00e3-4011-ae9f-4e173e419b56', 'EbsOptimized': False, 'EnaSupport': True, 'Hypervisor': 'xen', 'NetworkInterfaces': [{'Association': {'IpOwnerId': 'amazon', 'PublicDnsName': 'ec2-54-180-31-76.ap-northeast-2.compute.amazonaws.com', 'PublicIp': '54.180.31.76'}, 'Attachment': {'AttachTime': datetime.datetime(2024, 10, 22, 4, 50, 8, tzinfo=tzutc()), 'AttachmentId': 'eni-attach-01d1ad9e65d262e9b', 'DeleteOnTermination': True, 'DeviceIndex': 0, 'Status': 'attached', 'NetworkCardIndex': 0}, 'Description': '', 'Groups': [{'GroupId': 'sg-04791ffa16270cee4', 'GroupName': 'launch-wizard-11'}], 'Ipv6Addresses': [], 'MacAddress': '0a:dd:d8:96:da:bb', 'NetworkInterfaceId': 'eni-05a1e204af7eb165f', 'OwnerId': '339712929315', 'PrivateDnsName': 'ip-172-31-38-152.ap-northeast-2.compute.internal', 'PrivateIpAddress': '172.31.38.152', 'PrivateIpAddresses': [{'Association': {'IpOwnerId': 'amazon', 'PublicDnsName': 'ec2-54-180-31-76.ap-northeast-2.compute.amazonaws.com', 'PublicIp': '54.180.31.76'}, 'Primary': True, 'PrivateDnsName': 'ip-172-31-38-152.ap-northeast-2.compute.internal', 'PrivateIpAddress': '172.31.38.152'}], 'SourceDestCheck': True, 'Status': 'in-use', 'SubnetId': 'subnet-044e9346f4124c05d', 'VpcId': 'vpc-047649da2321a2d91', 'InterfaceType': 'interface'}], 'RootDeviceName': '/dev/sda1', 'RootDeviceType': 'ebs', 'SecurityGroups': [{'GroupId': 'sg-04791ffa16270cee4', 'GroupName': 'launch-wizard-11'}], 'SourceDestCheck': True, 'Tags': [{'Key': 'Name', 'Value': 'big9_teacher'}], 'VirtualizationType': 'hvm', 'CpuOptions': {'CoreCount': 1, 'ThreadsPerCore': 1}, 'CapacityReservationSpecification': {'CapacityReservationPreference': 'open'}, 'HibernationOptions': {'Configured': False}, 'MetadataOptions': {'State': 'applied', 'HttpTokens': 'required', 'HttpPutResponseHopLimit': 2, 'HttpEndpoint': 'enabled', 'HttpProtocolIpv6': 'disabled', 'InstanceMetadataTags': 'disabled'}, 'EnclaveOptions': {'Enabled': False}, 'BootMode': 'uefi-preferred', 'PlatformDetails': 'Linux/UNIX', 'UsageOperation': 'RunInstances', 'UsageOperationUpdateTime': datetime.datetime(2024, 10, 22, 4, 50, 8, tzinfo=tzutc()), 'PrivateDnsNameOptions': {'HostnameType': 'ip-name', 'EnableResourceNameDnsARecord': True, 'EnableResourceNameDnsAAAARecord': False}, 'MaintenanceOptions': {'AutoRecovery': 'default'}, 'CurrentInstanceBootMode': 'legacy-bios', 'InstanceId': 'i-06c353bd1099f1b9d', 'ImageId': 'ami-040c33c6a51fd5d96', 'State': {'Code': 16, 'Name': 'running'}, 'PrivateDnsName': 'ip-172-31-38-152.ap-northeast-2.compute.internal', 'PublicDnsName': 'ec2-54-180-31-76.ap-northeast-2.compute.amazonaws.com', 'StateTransitionReason': '', 'KeyName': 'teacher', 'AmiLaunchIndex': 0, 'ProductCodes': [], 'InstanceType': 't2.micro', 'LaunchTime': datetime.datetime(2024, 10, 22, 4, 50, 8, tzinfo=tzutc()), 'Placement': {'GroupName': '', 'Tenancy': 'default', 'AvailabilityZone': 'ap-northeast-2c'}, 'Monitoring': {'State': 'disabled'}, 'SubnetId': 'subnet-044e9346f4124c05d', 'VpcId': 'vpc-047649da2321a2d91', 'PrivateIpAddress': '172.31.38.152', 'PublicIpAddress': '54.180.31.76'}]}, {'ReservationId': 'r-0c5c10d64c2f1f986', 'OwnerId': '339712929315', 'Groups': [], 'Instances': [{'Architecture': 'x86_64', 'BlockDeviceMappings': [{'DeviceName': '/dev/sda1', 'Ebs': {'AttachTime': datetime.datetime(2024, 10, 23, 2, 32, 3, tzinfo=tzutc()), 'DeleteOnTermination': True, 'Status': 'attached', 'VolumeId': 'vol-08b434662e47ccb5e'}}], 'ClientToken': '179dc372-d969-4d14-9ed9-c1ff57f185cc', 'EbsOptimized': False, 'EnaSupport': True, 'Hypervisor': 'xen', 'NetworkInterfaces': [{'Association': {'IpOwnerId': 'amazon', 'PublicDnsName': 'ec2-3-35-26-25.ap-northeast-2.compute.amazonaws.com', 'PublicIp': '3.35.26.25'}, 'Attachment': {'AttachTime': datetime.datetime(2024, 10, 23, 2, 32, 3, tzinfo=tzutc()), 'AttachmentId': 'eni-attach-0a4bf1803c326b02e', 'DeleteOnTermination': True, 'DeviceIndex': 0, 'Status': 'attached', 'NetworkCardIndex': 0}, 'Description': '', 'Groups': [{'GroupId': 'sg-05e428a5fe73082f9', 'GroupName': 'bigdata9_yewon'}], 'Ipv6Addresses': [], 'MacAddress': '0a:dc:55:91:62:37', 'NetworkInterfaceId': 'eni-056540c0a0f0dc366', 'OwnerId': '339712929315', 'PrivateDnsName': 'ip-172-31-33-104.ap-northeast-2.compute.internal', 'PrivateIpAddress': '172.31.33.104', 'PrivateIpAddresses': [{'Association': {'IpOwnerId': 'amazon', 'PublicDnsName': 'ec2-3-35-26-25.ap-northeast-2.compute.amazonaws.com', 'PublicIp': '3.35.26.25'}, 'Primary': True, 'PrivateDnsName': 'ip-172-31-33-104.ap-northeast-2.compute.internal', 'PrivateIpAddress': '172.31.33.104'}], 'SourceDestCheck': True, 'Status': 'in-use', 'SubnetId': 'subnet-044e9346f4124c05d', 'VpcId': 'vpc-047649da2321a2d91', 'InterfaceType': 'interface'}], 'RootDeviceName': '/dev/sda1', 'RootDeviceType': 'ebs', 'SecurityGroups': [{'GroupId': 'sg-05e428a5fe73082f9', 'GroupName': 'bigdata9_yewon'}], 'SourceDestCheck': True, 'Tags': [{'Key': 'Name', 'Value': 'bigdata9_yewon'}], 'VirtualizationType': 'hvm', 'CpuOptions': {'CoreCount': 1, 'ThreadsPerCore': 1}, 'CapacityReservationSpecification': {'CapacityReservationPreference': 'open'}, 'HibernationOptions': {'Configured': False}, 'MetadataOptions': {'State': 'applied', 'HttpTokens': 'required', 'HttpPutResponseHopLimit': 2, 'HttpEndpoint': 'enabled', 'HttpProtocolIpv6': 'disabled', 'InstanceMetadataTags': 'disabled'}, 'EnclaveOptions': {'Enabled': False}, 'BootMode': 'uefi-preferred', 'PlatformDetails': 'Linux/UNIX', 'UsageOperation': 'RunInstances', 'UsageOperationUpdateTime': datetime.datetime(2024, 10, 23, 2, 32, 3, tzinfo=tzutc()), 'PrivateDnsNameOptions': {'HostnameType': 'ip-name', 'EnableResourceNameDnsARecord': True, 'EnableResourceNameDnsAAAARecord': False}, 'MaintenanceOptions': {'AutoRecovery': 'default'}, 'CurrentInstanceBootMode': 'legacy-bios', 'InstanceId': 'i-06f263bdc8fbd18cf', 'ImageId': 'ami-040c33c6a51fd5d96', 'State': {'Code': 16, 'Name': 'running'}, 'PrivateDnsName': 'ip-172-31-33-104.ap-northeast-2.compute.internal', 'PublicDnsName': 'ec2-3-35-26-25.ap-northeast-2.compute.amazonaws.com', 'StateTransitionReason': '', 'KeyName': 'bigdata9_teacher', 'AmiLaunchIndex': 0, 'ProductCodes': [], 'InstanceType': 't2.micro', 'LaunchTime': datetime.datetime(2024, 10, 23, 2, 32, 3, tzinfo=tzutc()), 'Placement': {'GroupName': '', 'Tenancy': 'default', 'AvailabilityZone': 'ap-northeast-2c'}, 'Monitoring': {'State': 'disabled'}, 'SubnetId': 'subnet-044e9346f4124c05d', 'VpcId': 'vpc-047649da2321a2d91', 'PrivateIpAddress': '172.31.33.104', 'PublicIpAddress': '3.35.26.25'}]}, {'ReservationId': 'r-0af29bb6d371cc5a5', 'OwnerId': '339712929315', 'Groups': [], 'Instances': [{'Architecture': 'x86_64', 'BlockDeviceMappings': [{'DeviceName': '/dev/sda1', 'Ebs': {'AttachTime': datetime.datetime(2024, 10, 23, 2, 33, 5, tzinfo=tzutc()), 'DeleteOnTermination': True, 'Status': 'attached', 'VolumeId': 'vol-0ed9b021c42befe9a'}}], 'ClientToken': 'ab9e94aa-3831-40b6-8529-59a4437ed666', 'EbsOptimized': False, 'EnaSupport': True, 'Hypervisor': 'xen', 'NetworkInterfaces': [{'Association': {'IpOwnerId': 'amazon', 'PublicDnsName': 'ec2-13-209-4-177.ap-northeast-2.compute.amazonaws.com', 'PublicIp': '13.209.4.177'}, 'Attachment': {'AttachTime': datetime.datetime(2024, 10, 23, 2, 33, 4, tzinfo=tzutc()), 'AttachmentId': 'eni-attach-0284ee7482c3bcbff', 'DeleteOnTermination': True, 'DeviceIndex': 0, 'Status': 'attached', 'NetworkCardIndex': 0}, 'Description': '', 'Groups': [{'GroupId': 'sg-0dab27ab581c70b5b', 'GroupName': 'launch-wizard-14'}], 'Ipv6Addresses': [], 'MacAddress': '0a:f6:c4:54:c9:01', 'NetworkInterfaceId': 'eni-01d79cdb75a6d485a', 'OwnerId': '339712929315', 'PrivateDnsName': 'ip-172-31-33-39.ap-northeast-2.compute.internal', 'PrivateIpAddress': '172.31.33.39', 'PrivateIpAddresses': [{'Association': {'IpOwnerId': 'amazon', 'PublicDnsName': 'ec2-13-209-4-177.ap-northeast-2.compute.amazonaws.com', 'PublicIp': '13.209.4.177'}, 'Primary': True, 'PrivateDnsName': 'ip-172-31-33-39.ap-northeast-2.compute.internal', 'PrivateIpAddress': '172.31.33.39'}], 'SourceDestCheck': True, 'Status': 'in-use', 'SubnetId': 'subnet-044e9346f4124c05d', 'VpcId': 'vpc-047649da2321a2d91', 'InterfaceType': 'interface'}], 'RootDeviceName': '/dev/sda1', 'RootDeviceType': 'ebs', 'SecurityGroups': [{'GroupId': 'sg-0dab27ab581c70b5b', 'GroupName': 'launch-wizard-14'}], 'SourceDestCheck': True, 'Tags': [{'Key': 'Name', 'Value': 'bigdata9-ktk'}], 'VirtualizationType': 'hvm', 'CpuOptions': {'CoreCount': 1, 'ThreadsPerCore': 1}, 'CapacityReservationSpecification': {'CapacityReservationPreference': 'open'}, 'HibernationOptions': {'Configured': False}, 'MetadataOptions': {'State': 'applied', 'HttpTokens': 'required', 'HttpPutResponseHopLimit': 2, 'HttpEndpoint': 'enabled', 'HttpProtocolIpv6': 'disabled', 'InstanceMetadataTags': 'disabled'}, 'EnclaveOptions': {'Enabled': False}, 'BootMode': 'uefi-preferred', 'PlatformDetails': 'Linux/UNIX', 'UsageOperation': 'RunInstances', 'UsageOperationUpdateTime': datetime.datetime(2024, 10, 23, 2, 33, 4, tzinfo=tzutc()), 'PrivateDnsNameOptions': {'HostnameType': 'ip-name', 'EnableResourceNameDnsARecord': True, 'EnableResourceNameDnsAAAARecord': False}, 'MaintenanceOptions': {'AutoRecovery': 'default'}, 'CurrentInstanceBootMode': 'legacy-bios', 'InstanceId': 'i-02df9b52f7049fe3d', 'ImageId': 'ami-040c33c6a51fd5d96', 'State': {'Code': 16, 'Name': 'running'}, 'PrivateDnsName': 'ip-172-31-33-39.ap-northeast-2.compute.internal', 'PublicDnsName': 'ec2-13-209-4-177.ap-northeast-2.compute.amazonaws.com', 'StateTransitionReason': '', 'KeyName': 'bigdata9_1', 'AmiLaunchIndex': 0, 'ProductCodes': [], 'InstanceType': 't2.micro', 'LaunchTime': datetime.datetime(2024, 10, 23, 2, 33, 4, tzinfo=tzutc()), 'Placement': {'GroupName': '', 'Tenancy': 'default', 'AvailabilityZone': 'ap-northeast-2c'}, 'Monitoring': {'State': 'disabled'}, 'SubnetId': 'subnet-044e9346f4124c05d', 'VpcId': 'vpc-047649da2321a2d91', 'PrivateIpAddress': '172.31.33.39', 'PublicIpAddress': '13.209.4.177'}]}, {'ReservationId': 'r-0fada56b707357a65', 'OwnerId': '339712929315', 'Groups': [], 'Instances': [{'Architecture': 'x86_64', 'BlockDeviceMappings': [{'DeviceName': '/dev/sda1', 'Ebs': {'AttachTime': datetime.datetime(2024, 10, 23, 2, 39, 27, tzinfo=tzutc()), 'DeleteOnTermination': True, 'Status': 'attached', 'VolumeId': 'vol-09a11ac8565437bc8'}}], 'ClientToken': '1d99f148-76b3-4bdc-87fe-e2997462a319', 'EbsOptimized': False, 'EnaSupport': True, 'Hypervisor': 'xen', 'NetworkInterfaces': [{'Association': {'IpOwnerId': 'amazon', 'PublicDnsName': 'ec2-54-180-86-101.ap-northeast-2.compute.amazonaws.com', 'PublicIp': '54.180.86.101'}, 'Attachment': {'AttachTime': datetime.datetime(2024, 10, 23, 2, 39, 26, tzinfo=tzutc()), 'AttachmentId': 'eni-attach-0ebca173473904d7c', 'DeleteOnTermination': True, 'DeviceIndex': 0, 'Status': 'attached', 'NetworkCardIndex': 0}, 'Description': '', 'Groups': [{'GroupId': 'sg-085a47f770d1480a1', 'GroupName': 'bigdata9_yewon_1'}], 'Ipv6Addresses': [], 'MacAddress': '0a:a6:0c:c5:4a:d7', 'NetworkInterfaceId': 'eni-0273708769de21e20', 'OwnerId': '339712929315', 'PrivateDnsName': 'ip-172-31-39-138.ap-northeast-2.compute.internal', 'PrivateIpAddress': '172.31.39.138', 'PrivateIpAddresses': [{'Association': {'IpOwnerId': 'amazon', 'PublicDnsName': 'ec2-54-180-86-101.ap-northeast-2.compute.amazonaws.com', 'PublicIp': '54.180.86.101'}, 'Primary': True, 'PrivateDnsName': 'ip-172-31-39-138.ap-northeast-2.compute.internal', 'PrivateIpAddress': '172.31.39.138'}], 'SourceDestCheck': True, 'Status': 'in-use', 'SubnetId': 'subnet-044e9346f4124c05d', 'VpcId': 'vpc-047649da2321a2d91', 'InterfaceType': 'interface'}], 'RootDeviceName': '/dev/sda1', 'RootDeviceType': 'ebs', 'SecurityGroups': [{'GroupId': 'sg-085a47f770d1480a1', 'GroupName': 'bigdata9_yewon_1'}], 'SourceDestCheck': True, 'Tags': [{'Key': 'Name', 'Value': 'bigdata9_yewon_1'}], 'VirtualizationType': 'hvm', 'CpuOptions': {'CoreCount': 1, 'ThreadsPerCore': 1}, 'CapacityReservationSpecification': {'CapacityReservationPreference': 'open'}, 'HibernationOptions': {'Configured': False}, 'MetadataOptions': {'State': 'applied', 'HttpTokens': 'required', 'HttpPutResponseHopLimit': 2, 'HttpEndpoint': 'enabled', 'HttpProtocolIpv6': 'disabled', 'InstanceMetadataTags': 'disabled'}, 'EnclaveOptions': {'Enabled': False}, 'BootMode': 'uefi-preferred', 'PlatformDetails': 'Linux/UNIX', 'UsageOperation': 'RunInstances', 'UsageOperationUpdateTime': datetime.datetime(2024, 10, 23, 2, 39, 26, tzinfo=tzutc()), 'PrivateDnsNameOptions': {'HostnameType': 'ip-name', 'EnableResourceNameDnsARecord': True, 'EnableResourceNameDnsAAAARecord': False}, 'MaintenanceOptions': {'AutoRecovery': 'default'}, 'CurrentInstanceBootMode': 'legacy-bios', 'InstanceId': 'i-0e6ef5b87a0abc0b4', 'ImageId': 'ami-040c33c6a51fd5d96', 'State': {'Code': 16, 'Name': 'running'}, 'PrivateDnsName': 'ip-172-31-39-138.ap-northeast-2.compute.internal', 'PublicDnsName': 'ec2-54-180-86-101.ap-northeast-2.compute.amazonaws.com', 'StateTransitionReason': '', 'KeyName': 'bigdata9_teacher', 'AmiLaunchIndex': 0, 'ProductCodes': [], 'InstanceType': 't2.micro', 'LaunchTime': datetime.datetime(2024, 10, 23, 2, 39, 26, tzinfo=tzutc()), 'Placement': {'GroupName': '', 'Tenancy': 'default', 'AvailabilityZone': 'ap-northeast-2c'}, 'Monitoring': {'State': 'disabled'}, 'SubnetId': 'subnet-044e9346f4124c05d', 'VpcId': 'vpc-047649da2321a2d91', 'PrivateIpAddress': '172.31.39.138', 'PublicIpAddress': '54.180.86.101'}]}, {'ReservationId': 'r-072992d69f7ce5c7c', 'OwnerId': '339712929315', 'Groups': [], 'Instances': [{'Architecture': 'x86_64', 'BlockDeviceMappings': [{'DeviceName': '/dev/sda1', 'Ebs': {'AttachTime': datetime.datetime(2024, 10, 23, 2, 31, 33, tzinfo=tzutc()), 'DeleteOnTermination': True, 'Status': 'attached', 'VolumeId': 'vol-0ee499315c5259e30'}}], 'ClientToken': 'c80aa32d-1fa7-4878-bb30-2272627ec07f', 'EbsOptimized': False, 'EnaSupport': True, 'Hypervisor': 'xen', 'NetworkInterfaces': [{'Association': {'IpOwnerId': 'amazon', 'PublicDnsName': 'ec2-43-200-5-108.ap-northeast-2.compute.amazonaws.com', 'PublicIp': '43.200.5.108'}, 'Attachment': {'AttachTime': datetime.datetime(2024, 10, 23, 2, 31, 33, tzinfo=tzutc()), 'AttachmentId': 'eni-attach-077c3f4a57bc72c29', 'DeleteOnTermination': True, 'DeviceIndex': 0, 'Status': 'attached', 'NetworkCardIndex': 0}, 'Description': '', 'Groups': [{'GroupId': 'sg-092c784b6c338c4f9', 'GroupName': 'launch-wizard-13'}], 'Ipv6Addresses': [], 'MacAddress': '0a:e0:d0:bf:d2:4f', 'NetworkInterfaceId': 'eni-09f0f8c43e8748aae', 'OwnerId': '339712929315', 'PrivateDnsName': 'ip-172-31-46-211.ap-northeast-2.compute.internal', 'PrivateIpAddress': '172.31.46.211', 'PrivateIpAddresses': [{'Association': {'IpOwnerId': 'amazon', 'PublicDnsName': 'ec2-43-200-5-108.ap-northeast-2.compute.amazonaws.com', 'PublicIp': '43.200.5.108'}, 'Primary': True, 'PrivateDnsName': 'ip-172-31-46-211.ap-northeast-2.compute.internal', 'PrivateIpAddress': '172.31.46.211'}], 'SourceDestCheck': True, 'Status': 'in-use', 'SubnetId': 'subnet-044e9346f4124c05d', 'VpcId': 'vpc-047649da2321a2d91', 'InterfaceType': 'interface'}], 'RootDeviceName': '/dev/sda1', 'RootDeviceType': 'ebs', 'SecurityGroups': [{'GroupId': 'sg-092c784b6c338c4f9', 'GroupName': 'launch-wizard-13'}], 'SourceDestCheck': True, 'Tags': [{'Key': 'Name', 'Value': 'bigdata9_manhye'}], 'VirtualizationType': 'hvm', 'CpuOptions': {'CoreCount': 1, 'ThreadsPerCore': 1}, 'CapacityReservationSpecification': {'CapacityReservationPreference': 'open'}, 'HibernationOptions': {'Configured': False}, 'MetadataOptions': {'State': 'applied', 'HttpTokens': 'required', 'HttpPutResponseHopLimit': 2, 'HttpEndpoint': 'enabled', 'HttpProtocolIpv6': 'disabled', 'InstanceMetadataTags': 'disabled'}, 'EnclaveOptions': {'Enabled': False}, 'BootMode': 'uefi-preferred', 'PlatformDetails': 'Linux/UNIX', 'UsageOperation': 'RunInstances', 'UsageOperationUpdateTime': datetime.datetime(2024, 10, 23, 2, 31, 33, tzinfo=tzutc()), 'PrivateDnsNameOptions': {'HostnameType': 'ip-name', 'EnableResourceNameDnsARecord': True, 'EnableResourceNameDnsAAAARecord': False}, 'MaintenanceOptions': {'AutoRecovery': 'default'}, 'CurrentInstanceBootMode': 'legacy-bios', 'InstanceId': 'i-074afbffe43794fe6', 'ImageId': 'ami-040c33c6a51fd5d96', 'State': {'Code': 16, 'Name': 'running'}, 'PrivateDnsName': 'ip-172-31-46-211.ap-northeast-2.compute.internal', 'PublicDnsName': 'ec2-43-200-5-108.ap-northeast-2.compute.amazonaws.com', 'StateTransitionReason': '', 'KeyName': 'bigdata9_3', 'AmiLaunchIndex': 0, 'ProductCodes': [], 'InstanceType': 't2.micro', 'LaunchTime': datetime.datetime(2024, 10, 23, 2, 31, 33, tzinfo=tzutc()), 'Placement': {'GroupName': '', 'Tenancy': 'default', 'AvailabilityZone': 'ap-northeast-2c'}, 'Monitoring': {'State': 'disabled'}, 'SubnetId': 'subnet-044e9346f4124c05d', 'VpcId': 'vpc-047649da2321a2d91', 'PrivateIpAddress': '172.31.46.211', 'PublicIpAddress': '43.200.5.108'}]}, {'ReservationId': 'r-0e3ecc90ff147bda7', 'OwnerId': '339712929315', 'Groups': [], 'Instances': [{'Architecture': 'x86_64', 'BlockDeviceMappings': [{'DeviceName': '/dev/sda1', 'Ebs': {'AttachTime': datetime.datetime(2024, 10, 23, 2, 39, 23, tzinfo=tzutc()), 'DeleteOnTermination': True, 'Status': 'attached', 'VolumeId': 'vol-0f031a607940ab8e0'}}], 'ClientToken': 'c11c1f05-66e8-415f-b9ab-2acde75a23ce', 'EbsOptimized': False, 'EnaSupport': True, 'Hypervisor': 'xen', 'NetworkInterfaces': [{'Association': {'IpOwnerId': 'amazon', 'PublicDnsName': 'ec2-43-200-171-99.ap-northeast-2.compute.amazonaws.com', 'PublicIp': '43.200.171.99'}, 'Attachment': {'AttachTime': datetime.datetime(2024, 10, 23, 2, 39, 23, tzinfo=tzutc()), 'AttachmentId': 'eni-attach-092562b33196e5b9f', 'DeleteOnTermination': True, 'DeviceIndex': 0, 'Status': 'attached', 'NetworkCardIndex': 0}, 'Description': '', 'Groups': [{'GroupId': 'sg-0e726a1080dd750a4', 'GroupName': 'bigdata9_ara'}], 'Ipv6Addresses': [], 'MacAddress': '0a:7e:7d:51:c8:87', 'NetworkInterfaceId': 'eni-00ec9648feb474c5c', 'OwnerId': '339712929315', 'PrivateDnsName': 'ip-172-31-37-108.ap-northeast-2.compute.internal', 'PrivateIpAddress': '172.31.37.108', 'PrivateIpAddresses': [{'Association': {'IpOwnerId': 'amazon', 'PublicDnsName': 'ec2-43-200-171-99.ap-northeast-2.compute.amazonaws.com', 'PublicIp': '43.200.171.99'}, 'Primary': True, 'PrivateDnsName': 'ip-172-31-37-108.ap-northeast-2.compute.internal', 'PrivateIpAddress': '172.31.37.108'}], 'SourceDestCheck': True, 'Status': 'in-use', 'SubnetId': 'subnet-044e9346f4124c05d', 'VpcId': 'vpc-047649da2321a2d91', 'InterfaceType': 'interface'}], 'RootDeviceName': '/dev/sda1', 'RootDeviceType': 'ebs', 'SecurityGroups': [{'GroupId': 'sg-0e726a1080dd750a4', 'GroupName': 'bigdata9_ara'}], 'SourceDestCheck': True, 'Tags': [{'Key': 'Name', 'Value': 'bigdata9_ara'}], 'VirtualizationType': 'hvm', 'CpuOptions': {'CoreCount': 1, 'ThreadsPerCore': 1}, 'CapacityReservationSpecification': {'CapacityReservationPreference': 'open'}, 'HibernationOptions': {'Configured': False}, 'MetadataOptions': {'State': 'applied', 'HttpTokens': 'required', 'HttpPutResponseHopLimit': 2, 'HttpEndpoint': 'enabled', 'HttpProtocolIpv6': 'disabled', 'InstanceMetadataTags': 'disabled'}, 'EnclaveOptions': {'Enabled': False}, 'BootMode': 'uefi-preferred', 'PlatformDetails': 'Linux/UNIX', 'UsageOperation': 'RunInstances', 'UsageOperationUpdateTime': datetime.datetime(2024, 10, 23, 2, 39, 23, tzinfo=tzutc()), 'PrivateDnsNameOptions': {'HostnameType': 'ip-name', 'EnableResourceNameDnsARecord': True, 'EnableResourceNameDnsAAAARecord': False}, 'MaintenanceOptions': {'AutoRecovery': 'default'}, 'CurrentInstanceBootMode': 'legacy-bios', 'InstanceId': 'i-08767ab91a0d1ac24', 'ImageId': 'ami-040c33c6a51fd5d96', 'State': {'Code': 16, 'Name': 'running'}, 'PrivateDnsName': 'ip-172-31-37-108.ap-northeast-2.compute.internal', 'PublicDnsName': 'ec2-43-200-171-99.ap-northeast-2.compute.amazonaws.com', 'StateTransitionReason': '', 'KeyName': 'bigdata9_5', 'AmiLaunchIndex': 0, 'ProductCodes': [], 'InstanceType': 't2.micro', 'LaunchTime': datetime.datetime(2024, 10, 23, 2, 39, 23, tzinfo=tzutc()), 'Placement': {'GroupName': '', 'Tenancy': 'default', 'AvailabilityZone': 'ap-northeast-2c'}, 'Monitoring': {'State': 'disabled'}, 'SubnetId': 'subnet-044e9346f4124c05d', 'VpcId': 'vpc-047649da2321a2d91', 'PrivateIpAddress': '172.31.37.108', 'PublicIpAddress': '43.200.171.99'}]}, {'ReservationId': 'r-0312b9ea9851d9b07', 'OwnerId': '339712929315', 'Groups': [], 'Instances': [{'Architecture': 'x86_64', 'BlockDeviceMappings': [{'DeviceName': '/dev/sda1', 'Ebs': {'AttachTime': datetime.datetime(2024, 10, 23, 2, 32, 16, tzinfo=tzutc()), 'DeleteOnTermination': True, 'Status': 'attached', 'VolumeId': 'vol-036f0c75a388ce77a'}}], 'ClientToken': '0ba04e12-b2a0-4071-9ad3-6eb02507d2bf', 'EbsOptimized': False, 'EnaSupport': True, 'Hypervisor': 'xen', 'NetworkInterfaces': [{'Association': {'IpOwnerId': 'amazon', 'PublicDnsName': 'ec2-13-124-32-195.ap-northeast-2.compute.amazonaws.com', 'PublicIp': '13.124.32.195'}, 'Attachment': {'AttachTime': datetime.datetime(2024, 10, 23, 2, 32, 15, tzinfo=tzutc()), 'AttachmentId': 'eni-attach-0640dbcf3cb58de73', 'DeleteOnTermination': True, 'DeviceIndex': 0, 'Status': 'attached', 'NetworkCardIndex': 0}, 'Description': '', 'Groups': [{'GroupId': 'sg-0d0f7f1064718d085', 'GroupName': 'bigdata9_2'}], 'Ipv6Addresses': [], 'MacAddress': '0a:36:9c:c6:c4:41', 'NetworkInterfaceId': 'eni-0067a52fc27dee35a', 'OwnerId': '339712929315', 'PrivateDnsName': 'ip-172-31-41-62.ap-northeast-2.compute.internal', 'PrivateIpAddress': '172.31.41.62', 'PrivateIpAddresses': [{'Association': {'IpOwnerId': 'amazon', 'PublicDnsName': 'ec2-13-124-32-195.ap-northeast-2.compute.amazonaws.com', 'PublicIp': '13.124.32.195'}, 'Primary': True, 'PrivateDnsName': 'ip-172-31-41-62.ap-northeast-2.compute.internal', 'PrivateIpAddress': '172.31.41.62'}], 'SourceDestCheck': True, 'Status': 'in-use', 'SubnetId': 'subnet-044e9346f4124c05d', 'VpcId': 'vpc-047649da2321a2d91', 'InterfaceType': 'interface'}], 'RootDeviceName': '/dev/sda1', 'RootDeviceType': 'ebs', 'SecurityGroups': [{'GroupId': 'sg-0d0f7f1064718d085', 'GroupName': 'bigdata9_2'}], 'SourceDestCheck': True, 'Tags': [{'Key': 'Name', 'Value': 'bigdata9_sooz'}], 'VirtualizationType': 'hvm', 'CpuOptions': {'CoreCount': 1, 'ThreadsPerCore': 1}, 'CapacityReservationSpecification': {'CapacityReservationPreference': 'open'}, 'HibernationOptions': {'Configured': False}, 'MetadataOptions': {'State': 'applied', 'HttpTokens': 'required', 'HttpPutResponseHopLimit': 2, 'HttpEndpoint': 'enabled', 'HttpProtocolIpv6': 'disabled', 'InstanceMetadataTags': 'disabled'}, 'EnclaveOptions': {'Enabled': False}, 'BootMode': 'uefi-preferred', 'PlatformDetails': 'Linux/UNIX', 'UsageOperation': 'RunInstances', 'UsageOperationUpdateTime': datetime.datetime(2024, 10, 23, 2, 32, 15, tzinfo=tzutc()), 'PrivateDnsNameOptions': {'HostnameType': 'ip-name', 'EnableResourceNameDnsARecord': True, 'EnableResourceNameDnsAAAARecord': False}, 'MaintenanceOptions': {'AutoRecovery': 'default'}, 'CurrentInstanceBootMode': 'legacy-bios', 'InstanceId': 'i-09628a39cb687c01e', 'ImageId': 'ami-040c33c6a51fd5d96', 'State': {'Code': 16, 'Name': 'running'}, 'PrivateDnsName': 'ip-172-31-41-62.ap-northeast-2.compute.internal', 'PublicDnsName': 'ec2-13-124-32-195.ap-northeast-2.compute.amazonaws.com', 'StateTransitionReason': '', 'KeyName': 'bigdata9_2', 'AmiLaunchIndex': 0, 'ProductCodes': [], 'InstanceType': 't2.micro', 'LaunchTime': datetime.datetime(2024, 10, 23, 2, 32, 15, tzinfo=tzutc()), 'Placement': {'GroupName': '', 'Tenancy': 'default', 'AvailabilityZone': 'ap-northeast-2c'}, 'Monitoring': {'State': 'disabled'}, 'SubnetId': 'subnet-044e9346f4124c05d', 'VpcId': 'vpc-047649da2321a2d91', 'PrivateIpAddress': '172.31.41.62', 'PublicIpAddress': '13.124.32.195'}]}, {'ReservationId': 'r-000f69e599245e1ca', 'OwnerId': '339712929315', 'Groups': [], 'Instances': [{'Architecture': 'x86_64', 'BlockDeviceMappings': [{'DeviceName': '/dev/sda1', 'Ebs': {'AttachTime': datetime.datetime(2024, 10, 23, 2, 33, 25, tzinfo=tzutc()), 'DeleteOnTermination': True, 'Status': 'attached', 'VolumeId': 'vol-0a51f3325c0429779'}}], 'ClientToken': '85e336ad-a6da-4004-897c-6389dcb91679', 'EbsOptimized': False, 'EnaSupport': True, 'Hypervisor': 'xen', 'NetworkInterfaces': [{'Association': {'IpOwnerId': 'amazon', 'PublicDnsName': 'ec2-43-201-26-248.ap-northeast-2.compute.amazonaws.com', 'PublicIp': '43.201.26.248'}, 'Attachment': {'AttachTime': datetime.datetime(2024, 10, 23, 2, 33, 25, tzinfo=tzutc()), 'AttachmentId': 'eni-attach-0090c1b1898728516', 'DeleteOnTermination': True, 'DeviceIndex': 0, 'Status': 'attached', 'NetworkCardIndex': 0}, 'Description': '', 'Groups': [{'GroupId': 'sg-0e0d834e351447c49', 'GroupName': 'bigdata9_yura'}], 'Ipv6Addresses': [], 'MacAddress': '0a:7b:2d:d5:81:37', 'NetworkInterfaceId': 'eni-09a95961f0b731bd6', 'OwnerId': '339712929315', 'PrivateDnsName': 'ip-172-31-37-163.ap-northeast-2.compute.internal', 'PrivateIpAddress': '172.31.37.163', 'PrivateIpAddresses': [{'Association': {'IpOwnerId': 'amazon', 'PublicDnsName': 'ec2-43-201-26-248.ap-northeast-2.compute.amazonaws.com', 'PublicIp': '43.201.26.248'}, 'Primary': True, 'PrivateDnsName': 'ip-172-31-37-163.ap-northeast-2.compute.internal', 'PrivateIpAddress': '172.31.37.163'}], 'SourceDestCheck': True, 'Status': 'in-use', 'SubnetId': 'subnet-044e9346f4124c05d', 'VpcId': 'vpc-047649da2321a2d91', 'InterfaceType': 'interface'}], 'RootDeviceName': '/dev/sda1', 'RootDeviceType': 'ebs', 'SecurityGroups': [{'GroupId': 'sg-0e0d834e351447c49', 'GroupName': 'bigdata9_yura'}], 'SourceDestCheck': True, 'Tags': [{'Key': 'Name', 'Value': 'bigdata9_yura'}], 'VirtualizationType': 'hvm', 'CpuOptions': {'CoreCount': 1, 'ThreadsPerCore': 1}, 'CapacityReservationSpecification': {'CapacityReservationPreference': 'open'}, 'HibernationOptions': {'Configured': False}, 'MetadataOptions': {'State': 'applied', 'HttpTokens': 'required', 'HttpPutResponseHopLimit': 2, 'HttpEndpoint': 'enabled', 'HttpProtocolIpv6': 'disabled', 'InstanceMetadataTags': 'disabled'}, 'EnclaveOptions': {'Enabled': False}, 'BootMode': 'uefi-preferred', 'PlatformDetails': 'Linux/UNIX', 'UsageOperation': 'RunInstances', 'UsageOperationUpdateTime': datetime.datetime(2024, 10, 23, 2, 33, 25, tzinfo=tzutc()), 'PrivateDnsNameOptions': {'HostnameType': 'ip-name', 'EnableResourceNameDnsARecord': True, 'EnableResourceNameDnsAAAARecord': False}, 'MaintenanceOptions': {'AutoRecovery': 'default'}, 'CurrentInstanceBootMode': 'legacy-bios', 'InstanceId': 'i-0ca661a722ff8637c', 'ImageId': 'ami-040c33c6a51fd5d96', 'State': {'Code': 16, 'Name': 'running'}, 'PrivateDnsName': 'ip-172-31-37-163.ap-northeast-2.compute.internal', 'PublicDnsName': 'ec2-43-201-26-248.ap-northeast-2.compute.amazonaws.com', 'StateTransitionReason': '', 'KeyName': 'bigdata9_6', 'AmiLaunchIndex': 0, 'ProductCodes': [], 'InstanceType': 't2.micro', 'LaunchTime': datetime.datetime(2024, 10, 23, 2, 33, 25, tzinfo=tzutc()), 'Placement': {'GroupName': '', 'Tenancy': 'default', 'AvailabilityZone': 'ap-northeast-2c'}, 'Monitoring': {'State': 'disabled'}, 'SubnetId': 'subnet-044e9346f4124c05d', 'VpcId': 'vpc-047649da2321a2d91', 'PrivateIpAddress': '172.31.37.163', 'PublicIpAddress': '43.201.26.248'}]}, {'ReservationId': 'r-06f0683940694d27a', 'OwnerId': '339712929315', 'Groups': [], 'Instances': [{'Architecture': 'x86_64', 'BlockDeviceMappings': [{'DeviceName': '/dev/sda1', 'Ebs': {'AttachTime': datetime.datetime(2024, 10, 23, 2, 37, 30, tzinfo=tzutc()), 'DeleteOnTermination': True, 'Status': 'attached', 'VolumeId': 'vol-0482a1517a9bf8cf4'}}], 'ClientToken': 'ec4c4bcb-ec97-4a34-8a93-24769ffd60cf', 'EbsOptimized': False, 'EnaSupport': True, 'Hypervisor': 'xen', 'NetworkInterfaces': [{'Association': {'IpOwnerId': 'amazon', 'PublicDnsName': 'ec2-13-125-246-32.ap-northeast-2.compute.amazonaws.com', 'PublicIp': '13.125.246.32'}, 'Attachment': {'AttachTime': datetime.datetime(2024, 10, 23, 2, 37, 29, tzinfo=tzutc()), 'AttachmentId': 'eni-attach-0f4fa24627ded6a9f', 'DeleteOnTermination': True, 'DeviceIndex': 0, 'Status': 'attached', 'NetworkCardIndex': 0}, 'Description': '', 'Groups': [{'GroupId': 'sg-0ca66403781fbe422', 'GroupName': 'bigdata_9_dongin'}], 'Ipv6Addresses': [], 'MacAddress': '0a:32:3f:74:d8:93', 'NetworkInterfaceId': 'eni-0c12a0df9caa04b27', 'OwnerId': '339712929315', 'PrivateDnsName': 'ip-172-31-44-248.ap-northeast-2.compute.internal', 'PrivateIpAddress': '172.31.44.248', 'PrivateIpAddresses': [{'Association': {'IpOwnerId': 'amazon', 'PublicDnsName': 'ec2-13-125-246-32.ap-northeast-2.compute.amazonaws.com', 'PublicIp': '13.125.246.32'}, 'Primary': True, 'PrivateDnsName': 'ip-172-31-44-248.ap-northeast-2.compute.internal', 'PrivateIpAddress': '172.31.44.248'}], 'SourceDestCheck': True, 'Status': 'in-use', 'SubnetId': 'subnet-044e9346f4124c05d', 'VpcId': 'vpc-047649da2321a2d91', 'InterfaceType': 'interface'}], 'RootDeviceName': '/dev/sda1', 'RootDeviceType': 'ebs', 'SecurityGroups': [{'GroupId': 'sg-0ca66403781fbe422', 'GroupName': 'bigdata_9_dongin'}], 'SourceDestCheck': True, 'Tags': [{'Key': 'Name', 'Value': 'bigdata9_dongin'}], 'VirtualizationType': 'hvm', 'CpuOptions': {'CoreCount': 1, 'ThreadsPerCore': 1}, 'CapacityReservationSpecification': {'CapacityReservationPreference': 'open'}, 'HibernationOptions': {'Configured': False}, 'MetadataOptions': {'State': 'applied', 'HttpTokens': 'required', 'HttpPutResponseHopLimit': 2, 'HttpEndpoint': 'enabled', 'HttpProtocolIpv6': 'disabled', 'InstanceMetadataTags': 'disabled'}, 'EnclaveOptions': {'Enabled': False}, 'BootMode': 'uefi-preferred', 'PlatformDetails': 'Linux/UNIX', 'UsageOperation': 'RunInstances', 'UsageOperationUpdateTime': datetime.datetime(2024, 10, 23, 2, 37, 29, tzinfo=tzutc()), 'PrivateDnsNameOptions': {'HostnameType': 'ip-name', 'EnableResourceNameDnsARecord': True, 'EnableResourceNameDnsAAAARecord': False}, 'MaintenanceOptions': {'AutoRecovery': 'default'}, 'CurrentInstanceBootMode': 'legacy-bios', 'InstanceId': 'i-0141baed4792b1510', 'ImageId': 'ami-040c33c6a51fd5d96', 'State': {'Code': 16, 'Name': 'running'}, 'PrivateDnsName': 'ip-172-31-44-248.ap-northeast-2.compute.internal', 'PublicDnsName': 'ec2-13-125-246-32.ap-northeast-2.compute.amazonaws.com', 'StateTransitionReason': '', 'KeyName': 'bigdata9_4', 'AmiLaunchIndex': 0, 'ProductCodes': [], 'InstanceType': 't2.micro', 'LaunchTime': datetime.datetime(2024, 10, 23, 2, 37, 29, tzinfo=tzutc()), 'Placement': {'GroupName': '', 'Tenancy': 'default', 'AvailabilityZone': 'ap-northeast-2c'}, 'Monitoring': {'State': 'disabled'}, 'SubnetId': 'subnet-044e9346f4124c05d', 'VpcId': 'vpc-047649da2321a2d91', 'PrivateIpAddress': '172.31.44.248', 'PublicIpAddress': '13.125.246.32'}]}, {'ReservationId': 'r-054ab042a6101610a', 'OwnerId': '339712929315', 'Groups': [], 'Instances': [{'Architecture': 'x86_64', 'BlockDeviceMappings': [{'DeviceName': '/dev/sda1', 'Ebs': {'AttachTime': datetime.datetime(2024, 10, 23, 2, 32, 14, tzinfo=tzutc()), 'DeleteOnTermination': True, 'Status': 'attached', 'VolumeId': 'vol-0291c934cd2922a89'}}], 'ClientToken': 'e30c902e-6487-4b37-bffc-0765e8920806', 'EbsOptimized': False, 'EnaSupport': True, 'Hypervisor': 'xen', 'NetworkInterfaces': [{'Association': {'IpOwnerId': 'amazon', 'PublicDnsName': 'ec2-3-39-231-223.ap-northeast-2.compute.amazonaws.com', 'PublicIp': '3.39.231.223'}, 'Attachment': {'AttachTime': datetime.datetime(2024, 10, 23, 2, 32, 14, tzinfo=tzutc()), 'AttachmentId': 'eni-attach-03aa87197b5cbd507', 'DeleteOnTermination': True, 'DeviceIndex': 0, 'Status': 'attached', 'NetworkCardIndex': 0}, 'Description': '', 'Groups': [{'GroupId': 'sg-0f7d6368deb6bd5e5', 'GroupName': 'bigdata9_seungyeon'}], 'Ipv6Addresses': [], 'MacAddress': '0a:2c:9e:af:1d:87', 'NetworkInterfaceId': 'eni-04270dc3c4426f4d1', 'OwnerId': '339712929315', 'PrivateDnsName': 'ip-172-31-45-75.ap-northeast-2.compute.internal', 'PrivateIpAddress': '172.31.45.75', 'PrivateIpAddresses': [{'Association': {'IpOwnerId': 'amazon', 'PublicDnsName': 'ec2-3-39-231-223.ap-northeast-2.compute.amazonaws.com', 'PublicIp': '3.39.231.223'}, 'Primary': True, 'PrivateDnsName': 'ip-172-31-45-75.ap-northeast-2.compute.internal', 'PrivateIpAddress': '172.31.45.75'}], 'SourceDestCheck': True, 'Status': 'in-use', 'SubnetId': 'subnet-044e9346f4124c05d', 'VpcId': 'vpc-047649da2321a2d91', 'InterfaceType': 'interface'}], 'RootDeviceName': '/dev/sda1', 'RootDeviceType': 'ebs', 'SecurityGroups': [{'GroupId': 'sg-0f7d6368deb6bd5e5', 'GroupName': 'bigdata9_seungyeon'}], 'SourceDestCheck': True, 'Tags': [{'Key': 'Name', 'Value': 'bigdata9_seungyeon'}], 'VirtualizationType': 'hvm', 'CpuOptions': {'CoreCount': 1, 'ThreadsPerCore': 1}, 'CapacityReservationSpecification': {'CapacityReservationPreference': 'open'}, 'HibernationOptions': {'Configured': False}, 'MetadataOptions': {'State': 'applied', 'HttpTokens': 'required', 'HttpPutResponseHopLimit': 2, 'HttpEndpoint': 'enabled', 'HttpProtocolIpv6': 'disabled', 'InstanceMetadataTags': 'disabled'}, 'EnclaveOptions': {'Enabled': False}, 'BootMode': 'uefi-preferred', 'PlatformDetails': 'Linux/UNIX', 'UsageOperation': 'RunInstances', 'UsageOperationUpdateTime': datetime.datetime(2024, 10, 23, 2, 32, 14, tzinfo=tzutc()), 'PrivateDnsNameOptions': {'HostnameType': 'ip-name', 'EnableResourceNameDnsARecord': True, 'EnableResourceNameDnsAAAARecord': False}, 'MaintenanceOptions': {'AutoRecovery': 'default'}, 'CurrentInstanceBootMode': 'legacy-bios', 'InstanceId': 'i-09b20261f60b14a59', 'ImageId': 'ami-040c33c6a51fd5d96', 'State': {'Code': 16, 'Name': 'running'}, 'PrivateDnsName': 'ip-172-31-45-75.ap-northeast-2.compute.internal', 'PublicDnsName': 'ec2-3-39-231-223.ap-northeast-2.compute.amazonaws.com', 'StateTransitionReason': '', 'KeyName': 'bigdata9_7', 'AmiLaunchIndex': 0, 'ProductCodes': [], 'InstanceType': 't2.micro', 'LaunchTime': datetime.datetime(2024, 10, 23, 2, 32, 14, tzinfo=tzutc()), 'Placement': {'GroupName': '', 'Tenancy': 'default', 'AvailabilityZone': 'ap-northeast-2c'}, 'Monitoring': {'State': 'disabled'}, 'SubnetId': 'subnet-044e9346f4124c05d', 'VpcId': 'vpc-047649da2321a2d91', 'PrivateIpAddress': '172.31.45.75', 'PublicIpAddress': '3.39.231.223'}]}, {'ReservationId': 'r-0ce3bce68adcf9405', 'OwnerId': '339712929315', 'Groups': [], 'Instances': [{'Architecture': 'x86_64', 'BlockDeviceMappings': [{'DeviceName': '/dev/sda1', 'Ebs': {'AttachTime': datetime.datetime(2024, 10, 23, 2, 34, 57, tzinfo=tzutc()), 'DeleteOnTermination': True, 'Status': 'attached', 'VolumeId': 'vol-0c5ae589be3a88a6e'}}], 'ClientToken': 'ed7c2f66-f13b-428c-afb5-a0e06abc034d', 'EbsOptimized': False, 'EnaSupport': True, 'Hypervisor': 'xen', 'NetworkInterfaces': [{'Attachment': {'AttachTime': datetime.datetime(2024, 10, 23, 2, 34, 56, tzinfo=tzutc()), 'AttachmentId': 'eni-attach-08ac7cf50cdafdc64', 'DeleteOnTermination': True, 'DeviceIndex': 0, 'Status': 'attached', 'NetworkCardIndex': 0}, 'Description': '', 'Groups': [{'GroupId': 'sg-09f0d458cc18415f7', 'GroupName': 'bigdata9_5'}], 'Ipv6Addresses': [], 'MacAddress': '0a:a1:c8:38:93:59', 'NetworkInterfaceId': 'eni-003384904ab810e1c', 'OwnerId': '339712929315', 'PrivateDnsName': 'ip-172-31-44-7.ap-northeast-2.compute.internal', 'PrivateIpAddress': '172.31.44.7', 'PrivateIpAddresses': [{'Primary': True, 'PrivateDnsName': 'ip-172-31-44-7.ap-northeast-2.compute.internal', 'PrivateIpAddress': '172.31.44.7'}], 'SourceDestCheck': True, 'Status': 'in-use', 'SubnetId': 'subnet-044e9346f4124c05d', 'VpcId': 'vpc-047649da2321a2d91', 'InterfaceType': 'interface'}], 'RootDeviceName': '/dev/sda1', 'RootDeviceType': 'ebs', 'SecurityGroups': [{'GroupId': 'sg-09f0d458cc18415f7', 'GroupName': 'bigdata9_5'}], 'SourceDestCheck': True, 'StateReason': {'Code': 'Client.UserInitiatedShutdown', 'Message': 'Client.UserInitiatedShutdown: User initiated shutdown'}, 'Tags': [{'Key': 'Name', 'Value': 'bigdata9_ara1'}], 'VirtualizationType': 'hvm', 'CpuOptions': {'CoreCount': 1, 'ThreadsPerCore': 1}, 'CapacityReservationSpecification': {'CapacityReservationPreference': 'open'}, 'HibernationOptions': {'Configured': False}, 'MetadataOptions': {'State': 'applied', 'HttpTokens': 'required', 'HttpPutResponseHopLimit': 2, 'HttpEndpoint': 'enabled', 'HttpProtocolIpv6': 'disabled', 'InstanceMetadataTags': 'disabled'}, 'EnclaveOptions': {'Enabled': False}, 'BootMode': 'uefi-preferred', 'PlatformDetails': 'Linux/UNIX', 'UsageOperation': 'RunInstances', 'UsageOperationUpdateTime': datetime.datetime(2024, 10, 23, 2, 34, 56, tzinfo=tzutc()), 'PrivateDnsNameOptions': {'HostnameType': 'ip-name', 'EnableResourceNameDnsARecord': True, 'EnableResourceNameDnsAAAARecord': False}, 'MaintenanceOptions': {'AutoRecovery': 'default'}, 'CurrentInstanceBootMode': 'legacy-bios', 'InstanceId': 'i-0efe55ab04590bf76', 'ImageId': 'ami-040c33c6a51fd5d96', 'State': {'Code': 80, 'Name': 'stopped'}, 'PrivateDnsName': 'ip-172-31-44-7.ap-northeast-2.compute.internal', 'PublicDnsName': '', 'StateTransitionReason': 'User initiated (2024-10-23 02:44:15 GMT)', 'KeyName': 'bigdata9_5', 'AmiLaunchIndex': 0, 'ProductCodes': [], 'InstanceType': 't2.micro', 'LaunchTime': datetime.datetime(2024, 10, 23, 2, 34, 56, tzinfo=tzutc()), 'Placement': {'GroupName': '', 'Tenancy': 'default', 'AvailabilityZone': 'ap-northeast-2c'}, 'Monitoring': {'State': 'disabled'}, 'SubnetId': 'subnet-044e9346f4124c05d', 'VpcId': 'vpc-047649da2321a2d91', 'PrivateIpAddress': '172.31.44.7'}]}, {'ReservationId': 'r-0d9d888f1e0368cb2', 'OwnerId': '339712929315', 'Groups': [], 'Instances': [{'Architecture': 'x86_64', 'BlockDeviceMappings': [{'DeviceName': '/dev/sda1', 'Ebs': {'AttachTime': datetime.datetime(2024, 10, 2, 7, 43, 13, tzinfo=tzutc()), 'DeleteOnTermination': True, 'Status': 'attached', 'VolumeId': 'vol-0c3c18e63111f159c'}}], 'ClientToken': '913fe724-4175-4081-b504-c3ff2f4fdb65', 'EbsOptimized': True, 'EnaSupport': True, 'Hypervisor': 'xen', 'IamInstanceProfile': {'Arn': 'arn:aws:iam::339712929315:instance-profile/dev_team_haejo_db_admin_profile', 'Id': 'AIPAU6GDX5YRUSUVM4ZY6'}, 'NetworkInterfaces': [{'Association': {'IpOwnerId': '339712929315', 'PublicDnsName': 'ec2-3-36-229-140.ap-northeast-2.compute.amazonaws.com', 'PublicIp': '3.36.229.140'}, 'Attachment': {'AttachTime': datetime.datetime(2024, 10, 2, 7, 43, 12, tzinfo=tzutc()), 'AttachmentId': 'eni-attach-0bd7765b0705d4ec3', 'DeleteOnTermination': True, 'DeviceIndex': 0, 'Status': 'attached', 'NetworkCardIndex': 0}, 'Description': '', 'Groups': [{'GroupId': 'sg-0e658d05415cd0113', 'GroupName': 'dev_team_haejo_security'}, {'GroupId': 'sg-01078d1d39bcd5316', 'GroupName': 'ec2-rds-1'}], 'Ipv6Addresses': [], 'MacAddress': '02:2c:69:5d:d9:a9', 'NetworkInterfaceId': 'eni-0188c98ca25142c1b', 'OwnerId': '339712929315', 'PrivateDnsName': 'ip-172-31-2-89.ap-northeast-2.compute.internal', 'PrivateIpAddress': '172.31.2.89', 'PrivateIpAddresses': [{'Association': {'IpOwnerId': '339712929315', 'PublicDnsName': 'ec2-3-36-229-140.ap-northeast-2.compute.amazonaws.com', 'PublicIp': '3.36.229.140'}, 'Primary': True, 'PrivateDnsName': 'ip-172-31-2-89.ap-northeast-2.compute.internal', 'PrivateIpAddress': '172.31.2.89'}], 'SourceDestCheck': True, 'Status': 'in-use', 'SubnetId': 'subnet-0b1f31718696b9530', 'VpcId': 'vpc-047649da2321a2d91', 'InterfaceType': 'interface'}], 'RootDeviceName': '/dev/sda1', 'RootDeviceType': 'ebs', 'SecurityGroups': [{'GroupId': 'sg-0e658d05415cd0113', 'GroupName': 'dev_team_haejo_security'}, {'GroupId': 'sg-01078d1d39bcd5316', 'GroupName': 'ec2-rds-1'}], 'SourceDestCheck': True, 'Tags': [{'Key': 'Name', 'Value': 'dev_team_haejo_server'}], 'VirtualizationType': 'hvm', 'CpuOptions': {'CoreCount': 4, 'ThreadsPerCore': 2}, 'CapacityReservationSpecification': {'CapacityReservationPreference': 'open'}, 'HibernationOptions': {'Configured': False}, 'MetadataOptions': {'State': 'applied', 'HttpTokens': 'required', 'HttpPutResponseHopLimit': 2, 'HttpEndpoint': 'enabled', 'HttpProtocolIpv6': 'disabled', 'InstanceMetadataTags': 'disabled'}, 'EnclaveOptions': {'Enabled': False}, 'BootMode': 'uefi-preferred', 'PlatformDetails': 'Linux/UNIX', 'UsageOperation': 'RunInstances', 'UsageOperationUpdateTime': datetime.datetime(2024, 10, 2, 7, 43, 12, tzinfo=tzutc()), 'PrivateDnsNameOptions': {'HostnameType': 'ip-name', 'EnableResourceNameDnsARecord': False, 'EnableResourceNameDnsAAAARecord': False}, 'MaintenanceOptions': {'AutoRecovery': 'default'}, 'CurrentInstanceBootMode': 'uefi', 'InstanceId': 'i-01c75ceffc6c4b45a', 'ImageId': 'ami-042e76978adeb8c48', 'State': {'Code': 16, 'Name': 'running'}, 'PrivateDnsName': 'ip-172-31-2-89.ap-northeast-2.compute.internal', 'PublicDnsName': 'ec2-3-36-229-140.ap-northeast-2.compute.amazonaws.com', 'StateTransitionReason': '', 'KeyName': 'dev_team_haejo_key_pair', 'AmiLaunchIndex': 0, 'ProductCodes': [], 'InstanceType': 'm5.2xlarge', 'LaunchTime': datetime.datetime(2024, 10, 22, 23, 50, 14, tzinfo=tzutc()), 'Placement': {'GroupName': '', 'Tenancy': 'default', 'AvailabilityZone': 'ap-northeast-2a'}, 'Monitoring': {'State': 'enabled'}, 'SubnetId': 'subnet-0b1f31718696b9530', 'VpcId': 'vpc-047649da2321a2d91', 'PrivateIpAddress': '172.31.2.89', 'PublicIpAddress': '3.36.229.140'}]}, {'ReservationId': 'r-09814df42ba29d923', 'OwnerId': '339712929315', 'Groups': [], 'Instances': [{'Architecture': 'x86_64', 'BlockDeviceMappings': [{'DeviceName': '/dev/sda1', 'Ebs': {'AttachTime': datetime.datetime(2024, 10, 10, 1, 28, 4, tzinfo=tzutc()), 'DeleteOnTermination': True, 'Status': 'attached', 'VolumeId': 'vol-0bc5f24a6114b4198'}}], 'ClientToken': 'c44a0704-1f15-4e1c-b222-9b804bd7e50b', 'EbsOptimized': True, 'EnaSupport': True, 'Hypervisor': 'xen', 'NetworkInterfaces': [{'Association': {'IpOwnerId': '339712929315', 'PublicDnsName': '', 'PublicIp': '13.125.139.175'}, 'Attachment': {'AttachTime': datetime.datetime(2024, 10, 10, 1, 28, 3, tzinfo=tzutc()), 'AttachmentId': 'eni-attach-020d2b0e9336a000d', 'DeleteOnTermination': True, 'DeviceIndex': 0, 'Status': 'attached', 'NetworkCardIndex': 0}, 'Description': '', 'Groups': [{'GroupId': 'sg-0beb004da3c00f795', 'GroupName': 'launch-wizard-10'}], 'Ipv6Addresses': [], 'MacAddress': '02:49:c2:44:95:df', 'NetworkInterfaceId': 'eni-0bc1c5b9f73399110', 'OwnerId': '339712929315', 'PrivateIpAddress': '10.0.1.42', 'PrivateIpAddresses': [{'Association': {'IpOwnerId': '339712929315', 'PublicDnsName': '', 'PublicIp': '13.125.139.175'}, 'Primary': True, 'PrivateIpAddress': '10.0.1.42'}], 'SourceDestCheck': True, 'Status': 'in-use', 'SubnetId': 'subnet-0aadbc9a984917cb5', 'VpcId': 'vpc-086c1ab47f0076f68', 'InterfaceType': 'interface'}], 'RootDeviceName': '/dev/sda1', 'RootDeviceType': 'ebs', 'SecurityGroups': [{'GroupId': 'sg-0beb004da3c00f795', 'GroupName': 'launch-wizard-10'}], 'SourceDestCheck': True, 'Tags': [{'Key': 'Name', 'Value': 'ec2-4t'}], 'VirtualizationType': 'hvm', 'CpuOptions': {'CoreCount': 2, 'ThreadsPerCore': 2}, 'CapacityReservationSpecification': {'CapacityReservationPreference': 'open'}, 'HibernationOptions': {'Configured': False}, 'MetadataOptions': {'State': 'applied', 'HttpTokens': 'required', 'HttpPutResponseHopLimit': 2, 'HttpEndpoint': 'enabled', 'HttpProtocolIpv6': 'disabled', 'InstanceMetadataTags': 'disabled'}, 'EnclaveOptions': {'Enabled': False}, 'BootMode': 'uefi-preferred', 'PlatformDetails': 'Linux/UNIX', 'UsageOperation': 'RunInstances', 'UsageOperationUpdateTime': datetime.datetime(2024, 10, 10, 1, 28, 3, tzinfo=tzutc()), 'PrivateDnsNameOptions': {'HostnameType': 'ip-name', 'EnableResourceNameDnsARecord': False, 'EnableResourceNameDnsAAAARecord': False}, 'MaintenanceOptions': {'AutoRecovery': 'default'}, 'CurrentInstanceBootMode': 'uefi', 'InstanceId': 'i-0a06c9b6f44f8e2ab', 'ImageId': 'ami-042e76978adeb8c48', 'State': {'Code': 16, 'Name': 'running'}, 'PrivateDnsName': 'ip-10-0-1-42.ap-northeast-2.compute.internal', 'PublicDnsName': '', 'StateTransitionReason': '', 'KeyName': '4t', 'AmiLaunchIndex': 0, 'ProductCodes': [], 'InstanceType': 't3.xlarge', 'LaunchTime': datetime.datetime(2024, 10, 23, 0, 7, 41, tzinfo=tzutc()), 'Placement': {'GroupName': '', 'Tenancy': 'default', 'AvailabilityZone': 'ap-northeast-2a'}, 'Monitoring': {'State': 'enabled'}, 'SubnetId': 'subnet-0aadbc9a984917cb5', 'VpcId': 'vpc-086c1ab47f0076f68', 'PrivateIpAddress': '10.0.1.42', 'PublicIpAddress': '13.125.139.175'}]}], 'ResponseMetadata': {'RequestId': '57ae7d56-e9dc-4c4c-965e-22f38ad7a397', 'HTTPStatusCode': 200, 'HTTPHeaders': {'x-amzn-requestid': '57ae7d56-e9dc-4c4c-965e-22f38ad7a397', 'cache-control': 'no-cache, no-store', 'strict-transport-security': 'max-age=31536000; includeSubDomains', 'vary': 'accept-encoding', 'content-type': 'text/xml;charset=UTF-8', 'transfer-encoding': 'chunked', 'date': 'Wed, 23 Oct 2024 05:16:12 GMT', 'server': 'AmazonEC2'}, 'RetryAttempts': 0}}\n"
     ]
    }
   ],
   "source": [
    "ec2_response = ec2.describe_instances()\n",
    "print(ec2_response)\n",
    "# for instance in ec2_response['Name']"
   ]
  },
  {
   "cell_type": "code",
   "execution_count": 19,
   "metadata": {},
   "outputs": [
    {
     "name": "stdout",
     "output_type": "stream",
     "text": [
      "Instance Name: bigdata9_4\n",
      "----\n",
      "Instance Name: bigdata9_5\n",
      "----\n",
      "Instance Name: bigdata9_3\n",
      "----\n",
      "Instance Name: bigdata9_1\n",
      "----\n",
      "Instance Name: bigdata9_7\n",
      "----\n",
      "Instance Name: bigdata9_teacher\n",
      "----\n",
      "Instance Name: bigdata9_2\n",
      "----\n",
      "Instance Name: bigdata9_6\n",
      "----\n",
      "Instance Name: big9_teacher\n",
      "----\n",
      "Instance Name: bigdata9_yewon\n",
      "----\n",
      "Instance Name: bigdata9-ktk\n",
      "----\n",
      "Instance Name: bigdata9_yewon_1\n",
      "----\n",
      "Instance Name: bigdata9_manhye\n",
      "----\n",
      "Instance Name: bigdata9_ara\n",
      "----\n",
      "Instance Name: bigdata9_sooz\n",
      "----\n",
      "Instance Name: bigdata9_yura\n",
      "----\n",
      "Instance Name: bigdata9_dongin\n",
      "----\n",
      "Instance Name: bigdata9_seungyeon\n",
      "----\n",
      "Instance Name: bigdata9_ara1\n",
      "----\n",
      "Instance Name: server_test_yura\n",
      "----\n",
      "Instance Name: server_test_yewon\n",
      "----\n",
      "Instance Name: bigdata9_1\n",
      "----\n",
      "Instance Name: server_test\n",
      "----\n",
      "Instance Name: server_test_seungyeon\n",
      "----\n",
      "Instance Name: dev_team_haejo_server\n",
      "----\n",
      "Instance Name: ec2-4t\n",
      "----\n"
     ]
    }
   ],
   "source": [
    "ec2_response = ec2.describe_instances()\n",
    "\n",
    "for reservation in ec2_response['Reservations']:\n",
    "    for instance in reservation['Instances']:\n",
    "        # 인스턴스의 Name 태그 찾기\n",
    "        name = None\n",
    "        if 'Tags' in instance:\n",
    "            for tag in instance['Tags']:\n",
    "                if tag['Key'] == 'Name':\n",
    "                    name = tag['Value']\n",
    "                    break\n",
    "        \n",
    "        print(f\"Instance Name: {name if name else '---'}\")\n",
    "        # print(f\"Instance ID: {instance['InstanceId']}\")\n",
    "        # print(f\"Instance Type: {instance['InstanceType']}\")\n",
    "        # print(f\"State: {instance['State']['Name']}\")\n",
    "        # print(f\"Public IP: {instance.get('PublicIpAddress')}\")\n",
    "        # print(f\"Launch Time: {instance['LaunchTime']}\")\n",
    "        print(\"----\")"
   ]
  },
  {
   "cell_type": "code",
   "execution_count": 17,
   "metadata": {},
   "outputs": [
    {
     "name": "stdout",
     "output_type": "stream",
     "text": [
      "새로운 EC2 인스턴스 server_test_yura이(가) 시작되었습니다.\n",
      "새로운 EC2 인스턴스 id 값은 i-0cae46c6f0d0e1b92입니다.\n"
     ]
    }
   ],
   "source": [
    "# EC2 인스턴스 시작\n",
    "Instance_Name = 'server_test_yura'          # 원하는 인스턴스 이름\n",
    "\n",
    "response = ec2.run_instances(\n",
    "    ImageId='ami-062cf18d655c0b1e8',\n",
    "    InstanceType='t2.micro',           # 인스턴스 유형\n",
    "    MinCount=1,                        # 시작할 최소 인스턴스 수\n",
    "    MaxCount=1,                        # 시작할 최대 인스턴스 수\n",
    "    KeyName='bigdata9_6',             # EC2 인스턴스에 접근할 키 페어 이름\n",
    "    TagSpecifications=[\n",
    "        {\n",
    "            'ResourceType': 'instance',\n",
    "            'Tags': [\n",
    "                {\n",
    "                    'Key': 'Name',\n",
    "                    'Value': f'{Instance_Name}' \n",
    "                }\n",
    "            ]\n",
    "        }\n",
    "    ]\n",
    ")\n",
    "\n",
    "instance_id = response['Instances'][0]['InstanceId']\n",
    "print(f'새로운 EC2 인스턴스 {Instance_Name}이(가) 시작되었습니다.')\n",
    "print(f'새로운 EC2 인스턴스 id 값은 {instance_id}입니다.')"
   ]
  },
  {
   "cell_type": "code",
   "execution_count": 21,
   "metadata": {},
   "outputs": [
    {
     "name": "stdout",
     "output_type": "stream",
     "text": [
      "새로운 EC2 인스턴스의 Public IP는 54.180.120.227입니다.\n"
     ]
    }
   ],
   "source": [
    "import time\n",
    "\n",
    "# 인스턴스의 Public IP 값을 확인\n",
    "while True:\n",
    "    ec2_response = ec2.describe_instances()\n",
    "\n",
    "    for instance_ in ec2_response['Reservations']:\n",
    "        if instance_['Instances'][0].get('InstanceId') == instance_id:\n",
    "            try:\n",
    "                public_ip = instance_['Instances'][0].get('PublicIpAddress')\n",
    "            except:\n",
    "                pass\n",
    "        else:\n",
    "            pass\n",
    "        \n",
    "    if public_ip:\n",
    "        print(f'새로운 EC2 인스턴스의 Public IP는 {public_ip}입니다.')\n",
    "        break\n",
    "    else:\n",
    "        print('Public IP가 아직 할당되지 않았습니다. 잠시 기다려 주세요.')\n",
    "        time.sleep(10)"
   ]
  },
  {
   "cell_type": "code",
   "execution_count": 22,
   "metadata": {},
   "outputs": [
    {
     "data": {
      "text/plain": [
       "{'TerminatingInstances': [{'InstanceId': 'i-0cae46c6f0d0e1b92',\n",
       "   'CurrentState': {'Code': 32, 'Name': 'shutting-down'},\n",
       "   'PreviousState': {'Code': 16, 'Name': 'running'}}],\n",
       " 'ResponseMetadata': {'RequestId': '27ed3e5c-4343-4fad-b607-e2b2dda6ef18',\n",
       "  'HTTPStatusCode': 200,\n",
       "  'HTTPHeaders': {'x-amzn-requestid': '27ed3e5c-4343-4fad-b607-e2b2dda6ef18',\n",
       "   'cache-control': 'no-cache, no-store',\n",
       "   'strict-transport-security': 'max-age=31536000; includeSubDomains',\n",
       "   'content-type': 'text/xml;charset=UTF-8',\n",
       "   'content-length': '426',\n",
       "   'date': 'Wed, 23 Oct 2024 05:23:33 GMT',\n",
       "   'server': 'AmazonEC2'},\n",
       "  'RetryAttempts': 0}}"
      ]
     },
     "execution_count": 22,
     "metadata": {},
     "output_type": "execute_result"
    }
   ],
   "source": [
    "# 인스턴스 종료하기\n",
    "ec2.terminate_instances(InstanceIds=[instance_id])"
   ]
  },
  {
   "cell_type": "code",
   "execution_count": null,
   "metadata": {},
   "outputs": [],
   "source": []
  }
 ],
 "metadata": {
  "kernelspec": {
   "display_name": "4th_math",
   "language": "python",
   "name": "python3"
  },
  "language_info": {
   "codemirror_mode": {
    "name": "ipython",
    "version": 3
   },
   "file_extension": ".py",
   "mimetype": "text/x-python",
   "name": "python",
   "nbconvert_exporter": "python",
   "pygments_lexer": "ipython3",
   "version": "3.9.19"
  }
 },
 "nbformat": 4,
 "nbformat_minor": 2
}
